{
 "cells": [
  {
   "cell_type": "code",
   "execution_count": 1,
   "id": "d691dba5",
   "metadata": {},
   "outputs": [],
   "source": [
    "import os\n",
    "os.environ[\"CUDA_VISIBLE_DEVICES\"]=\"6\""
   ]
  },
  {
   "attachments": {},
   "cell_type": "markdown",
   "id": "4e3ba116",
   "metadata": {},
   "source": [
    "# Martian Frost HiRISE Image Classification\n",
    "* Data confidence weighting\n",
    "* Predicts frost_context probabilities\n",
    "\n",
    "Outside of built-in python 3 libraries, this code uses numpy, skimage, tqdm, PIL, matplotlib, and tensorflow."
   ]
  },
  {
   "cell_type": "code",
   "execution_count": 1,
   "id": "6928e0e4",
   "metadata": {},
   "outputs": [],
   "source": [
    "import os\n",
    "import os.path as op\n",
    "import json\n",
    "from pathlib import Path\n",
    "import shutil\n",
    "import logging\n",
    "\n",
    "import numpy as np\n",
    "from tqdm import tqdm\n",
    "from skimage import io\n",
    "\n",
    "# Logging configuration\n",
    "logging.basicConfig(level=logging.INFO,\n",
    "                    datefmt='%H:%M:%S',\n",
    "                    format='%(asctime)s | %(levelname)-5s | %(module)-15s | %(message)s')\n",
    "\n",
    "IMAGE_SIZE = (299, 299)  # All images contained in this dataset are 299x299 (originally, to match Inception v3 input size)\n",
    "SEED = 17\n",
    "\n",
    "# Head directory containing all image subframes\n",
    "data_head_dir = Path('./data')\n",
    "\n",
    "# Find all subframe directories\n",
    "subdirs = [Path(subdir.stem) for subdir in data_head_dir.iterdir() if subdir.is_dir()]\n",
    "src_image_ids = ['_'.join(a_path.name.split('_')[:3]) for a_path in subdirs]"
   ]
  },
  {
   "attachments": {},
   "cell_type": "markdown",
   "id": "624825ed",
   "metadata": {},
   "source": [
    "# Suggested Data Split\n",
    "\n",
    "Use the suggested train/val/test split to avoid data leakage across each data subset from a geospatial perspective."
   ]
  },
  {
   "cell_type": "code",
   "execution_count": 2,
   "id": "5356902f",
   "metadata": {},
   "outputs": [],
   "source": [
    "# Load train/val/test subframe IDs\n",
    "def load_text_ids(file_path):\n",
    "    \"\"\"Simple helper to load all lines from a text file\"\"\"\n",
    "    with open(file_path, 'r') as f:\n",
    "        lines = [line.strip() for line in f.readlines()]\n",
    "    return lines\n",
    "\n",
    "# Load the subframe names for the three data subsets\n",
    "train_ids = load_text_ids('./splits/train_source_images.txt')\n",
    "validate_ids = load_text_ids('./splits/val_source_images.txt')\n",
    "test_ids = load_text_ids('./splits/test_source_images.txt')"
   ]
  },
  {
   "attachments": {},
   "cell_type": "markdown",
   "id": "94de20dd",
   "metadata": {},
   "source": [
    "## Prepare data as numpy arrays\n",
    "\n",
    "Load the data and pair a tile with its label. Each tile is stored in a numpy array under its parent. Each tile is a data object containing the following parameters:\n",
    "* `tile`: the png image data\n",
    "* `label`: the entire json for the tile\n",
    "* `class`: the class of the tile\n",
    "* `file`: the filename of the tile\n",
    "* `data`: the json annotations\n",
    "* `frost_types`: formatted 6-length array of frost contexts\n",
    "\n",
    "## Add weight to labeller confidence\n",
    "* Low confidence: 4.0\n",
    "* Medium confidence: 7.0\n",
    "* High confidence: 1.0\n",
    "* Multiply by overlap proportion\n",
    "* Compute the average weight for each frost type with confidence\n",
    "Assign a cutoff value of 0.5. I.e. if the 'uniform_albedo' has\n",
    "a score of 0.8, consider it a 1. If it's 0.3, consider it a 0"
   ]
  },
  {
   "cell_type": "code",
   "execution_count": 7,
   "id": "4f95ade9",
   "metadata": {},
   "outputs": [],
   "source": [
    "from skimage import io, color\n",
    "# modified this function to pair a tile with its label\n",
    "\n",
    "limit_tiles_per_img = True\n",
    "tile_limit = 25\n",
    "\n",
    "# define the cutoff hyperparameter\n",
    "cutoff = 0.5\n",
    "\n",
    "def load_images(dir_path):\n",
    "\n",
    "    tile_dir = dir_path / Path('tiles')\n",
    "    images = {'file': dir_path.stem, 'class': '', 'tiles': []}\n",
    "\n",
    "    for root, dirs, files in os.walk(tile_dir):\n",
    "        for file in files:\n",
    "            file = Path(file)\n",
    "            if file.suffix == '.png':\n",
    "                fp = os.path.join(root, file)\n",
    "                \n",
    "                # Extract the image class label from the filepath. This (and additional) info is also in the label jsons\n",
    "                image_class = Path(root).stem\n",
    "                if images['class'] == '':\n",
    "                    images['class'] = image_class\n",
    "                \n",
    "                # Load the image, save it to our list\n",
    "                img = io.imread(fp)\n",
    "\n",
    "                if len(img.shape) == 2:  # check if the image is grayscale\n",
    "                    img = color.gray2rgb(img)  # convert to RGB\n",
    "\n",
    "                # locate the associated label json\n",
    "                label_fp = op.join(dir_path, 'labels', image_class, f'{file.stem}.json')\n",
    "                with open(label_fp, 'r') as f:\n",
    "                    label_json = json.load(f)\n",
    "\n",
    "                combined_entry = {\"tile\": img,\n",
    "                                  \"data\": label_json, \n",
    "                                  \"class\": image_class,\n",
    "                                  \"file\": file.stem}\n",
    "                \n",
    "                images['tiles'].append(combined_entry)\n",
    "    if limit_tiles_per_img:\n",
    "        img_tiles = images['tiles']\n",
    "        lim = min(tile_limit, len(img_tiles))\n",
    "        tiles_lim = np.random.choice(img_tiles, lim, replace=False)\n",
    "        images['tiles'] = tiles_lim\n",
    "    return images"
   ]
  },
  {
   "attachments": {},
   "cell_type": "markdown",
   "id": "fceb748e",
   "metadata": {},
   "source": [
    "## Split the data into train/val/test\n",
    "Make use of load_images above and bin the data properly. It will bin according to the txt files imported above."
   ]
  },
  {
   "cell_type": "code",
   "execution_count": 8,
   "id": "482aab88",
   "metadata": {},
   "outputs": [
    {
     "name": "stderr",
     "output_type": "stream",
     "text": [
      "21:30:23 | INFO  | 2031110659      | Loading ML data from 214 subframes.\n",
      "Creating Dataset as Numpy array: 100%|██████████| 214/214 [01:30<00:00,  2.37it/s]\n"
     ]
    }
   ],
   "source": [
    "train_data = []\n",
    "validate_data = []\n",
    "test_data = []\n",
    "logging.info(f'Loading ML data from {len(subdirs)} subframes.')\n",
    "for subdir in tqdm(subdirs, desc='Creating Dataset as Numpy array'):\n",
    "    full_path = data_head_dir / subdir\n",
    "    for i in range(len(train_ids)):\n",
    "        if train_ids[i] in str(full_path):\n",
    "            train_data.append(load_images(full_path))\n",
    "    for j in range(len(validate_ids)):\n",
    "        if validate_ids[j] in str(full_path):\n",
    "            validate_data.append(load_images(full_path))\n",
    "    for k in range(len(test_ids)):\n",
    "        if test_ids[k] in str(full_path):\n",
    "            test_data.append(load_images(full_path))"
   ]
  },
  {
   "attachments": {},
   "cell_type": "markdown",
   "id": "579e8343",
   "metadata": {},
   "source": [
    "## Check the size of each bin\n",
    "Just to check and make sure we binned correctly!"
   ]
  },
  {
   "cell_type": "code",
   "execution_count": 9,
   "id": "0b0a93c6",
   "metadata": {},
   "outputs": [
    {
     "name": "stdout",
     "output_type": "stream",
     "text": [
      "Good to go!\n",
      "    -> Train size: 102\n",
      "    -> Validate size: 55\n",
      "    -> Test size: 57\n"
     ]
    }
   ],
   "source": [
    "if (len(train_data) + len(validate_data) + len(test_data)) != 214:\n",
    "    print(\"Error: Data not loaded and/or binned correctly\")\n",
    "else:\n",
    "    print(\"Good to go!\")\n",
    "    # print all lengths, and the amount with frost/background class\n",
    "    print(f\"    -> Train size: {len(train_data)}\")\n",
    "    print(f\"    -> Validate size: {len(validate_data)}\")\n",
    "    print(\n",
    "        f\"    -> Test size: {len(test_data)}\")\n"
   ]
  },
  {
   "attachments": {},
   "cell_type": "markdown",
   "id": "9ed30b90",
   "metadata": {},
   "source": [
    "## Print a random tile and its class\n",
    "Print a random tile and its data to make sure everything is working properly."
   ]
  },
  {
   "cell_type": "code",
   "execution_count": 10,
   "id": "eda3f8ba",
   "metadata": {},
   "outputs": [
    {
     "data": {
      "image/png": "[encoded data removed]",
      "text/plain": [
       "<Figure size 640x480 with 1 Axes>"
      ]
     },
     "metadata": {},
     "output_type": "display_data"
    }
   ],
   "source": [
    "import matplotlib.pyplot as plt\n",
    "import random\n",
    "\n",
    "def display_random_image_and_json(some_data):\n",
    "    # Pick a random image that has frost\n",
    "    idx = random.choice(range(len(some_data)))\n",
    "    tile_i = random.choice(range(len(some_data[idx]['tiles'])))\n",
    "    img_dict = some_data[idx]['tiles'][tile_i]\n",
    "\n",
    "    img = img_dict['tile']\n",
    "\n",
    "    # Plot the image\n",
    "    fig, ax = plt.subplots()\n",
    "    ax.imshow(img)\n",
    "\n",
    "    # Set the title\n",
    "    ax.set_title(\n",
    "        f\"Filename: {img_dict['file']}\\n Class: {img_dict['class']}\")\n",
    "\n",
    "    plt.show()\n",
    "\n",
    "\n",
    "display_random_image_and_json(train_data)\n"
   ]
  },
  {
   "attachments": {},
   "cell_type": "markdown",
   "id": "3e234192",
   "metadata": {},
   "source": [
    "## Preprocess data"
   ]
  },
  {
   "attachments": {},
   "cell_type": "markdown",
   "id": "071ef5e5",
   "metadata": {},
   "source": [
    "Gather and bin the data"
   ]
  },
  {
   "cell_type": "code",
   "execution_count": 11,
   "id": "f8046a1d",
   "metadata": {},
   "outputs": [],
   "source": [
    "# Train Data\n",
    "X_train = []\n",
    "y_train = []\n",
    "for i in range(len(train_data)):\n",
    "    for j in range(len(train_data[i]['tiles'])):\n",
    "        X_train.append(train_data[i]['tiles'][j]['tile'])\n",
    "        y_train.append(int(train_data[i]['tiles'][j]['class'] == \"frost\"))\n",
    "\n",
    "# Validate Data\n",
    "X_val = []\n",
    "y_val = []\n",
    "for i in range(len(validate_data)):\n",
    "    for j in range(len(validate_data[i]['tiles'])):\n",
    "        X_val.append(validate_data[i]['tiles'][j]['tile'])\n",
    "        y_val.append(int(validate_data[i]['tiles'][j]['class'] == \"frost\"))\n",
    "\n",
    "# Test Data\n",
    "X_test = []\n",
    "y_test = []\n",
    "for i in range(len(test_data)):\n",
    "    for j in range(len(test_data[i]['tiles'])):\n",
    "        X_test.append(test_data[i]['tiles'][j]['tile'])\n",
    "        y_test.append(int(test_data[i]['tiles'][j]['class'] == \"frost\"))"
   ]
  },
  {
   "attachments": {},
   "cell_type": "markdown",
   "id": "a081bbc9",
   "metadata": {},
   "source": [
    "Format the data"
   ]
  },
  {
   "cell_type": "code",
   "execution_count": 12,
   "id": "0400e3ff",
   "metadata": {},
   "outputs": [],
   "source": [
    "# Convert lists to numpy array\n",
    "X_train = np.array(X_train)\n",
    "X_val = np.array(X_val)\n",
    "X_test = np.array(X_test)\n",
    "y_train = np.array(y_train)\n",
    "y_val = np.array(y_val)\n",
    "y_test = np.array(y_test)"
   ]
  },
  {
   "cell_type": "code",
   "execution_count": 13,
   "id": "1f43f650",
   "metadata": {},
   "outputs": [
    {
     "name": "stdout",
     "output_type": "stream",
     "text": [
      "1113 (49.29140832595217%) are frost out of 2258 in the training set\n"
     ]
    }
   ],
   "source": [
    "frost_count = 0\n",
    "for item in y_train:\n",
    "    frost_count += item\n",
    "\n",
    "print(f\"{frost_count} ({100*(frost_count / len(y_train))}%) are frost out of {len(y_train)} in the training set\")"
   ]
  },
  {
   "cell_type": "code",
   "execution_count": 14,
   "id": "50a8aada",
   "metadata": {},
   "outputs": [
    {
     "name": "stdout",
     "output_type": "stream",
     "text": [
      "475 (34.54545454545455%) are frost out of 1375 in the validation set\n"
     ]
    }
   ],
   "source": [
    "frost_count = 0\n",
    "for item in y_val:\n",
    "    frost_count += item\n",
    "\n",
    "print(f\"{frost_count} ({100*(frost_count / len(y_val))}%) are frost out of {len(y_val)} in the validation set\")"
   ]
  },
  {
   "cell_type": "code",
   "execution_count": 15,
   "id": "840c93d0",
   "metadata": {},
   "outputs": [
    {
     "name": "stdout",
     "output_type": "stream",
     "text": [
      "675 (49.7787610619469%) are frost out of 1356 in the validation set\n"
     ]
    }
   ],
   "source": [
    "frost_count = 0\n",
    "for item in y_test:\n",
    "    frost_count += item\n",
    "\n",
    "print(f\"{frost_count} ({100*(frost_count / len(y_test))}%) are frost out of {len(y_test)} in the validation set\")"
   ]
  },
  {
   "attachments": {},
   "cell_type": "markdown",
   "id": "19180d1b",
   "metadata": {},
   "source": [
    "Make sure it's formatted correctly"
   ]
  },
  {
   "cell_type": "code",
   "execution_count": 16,
   "id": "dfbbf00b",
   "metadata": {},
   "outputs": [
    {
     "name": "stdout",
     "output_type": "stream",
     "text": [
      "(2258, 299, 299, 3)\n",
      "(2258,)\n",
      "(1375, 299, 299, 3)\n",
      "(1375,)\n",
      "(1356, 299, 299, 3)\n",
      "(1356,)\n"
     ]
    }
   ],
   "source": [
    "print(X_train.shape)\n",
    "print(y_train.shape)\n",
    "print(X_val.shape)\n",
    "print(y_val.shape)\n",
    "print(X_test.shape)\n",
    "print(y_test.shape)"
   ]
  },
  {
   "attachments": {},
   "cell_type": "markdown",
   "id": "5b92d772",
   "metadata": {},
   "source": [
    "## Import Tensorflow Packages"
   ]
  },
  {
   "cell_type": "code",
   "execution_count": 17,
   "id": "69019e42",
   "metadata": {},
   "outputs": [
    {
     "name": "stderr",
     "output_type": "stream",
     "text": [
      "2023-07-26 21:31:55.096035: I tensorflow/core/platform/cpu_feature_guard.cc:182] This TensorFlow binary is optimized to use available CPU instructions in performance-critical operations.\n",
      "To enable the following instructions: AVX2 FMA, in other operations, rebuild TensorFlow with the appropriate compiler flags.\n",
      "2023-07-26 21:31:56.720321: W tensorflow/compiler/tf2tensorrt/utils/py_utils.cc:38] TF-TRT Warning: Could not find TensorRT\n",
      "21:31:59 | INFO  | utils           | Note: detected 80 virtual cores but NumExpr set to maximum of 64, check \"NUMEXPR_MAX_THREADS\" environment variable.\n",
      "21:31:59 | INFO  | utils           | Note: NumExpr detected 80 cores but \"NUMEXPR_MAX_THREADS\" not set, so enforcing safe limit of 8.\n",
      "21:31:59 | INFO  | utils           | NumExpr defaulting to 8 threads.\n"
     ]
    }
   ],
   "source": [
    "from tensorflow.keras.models import Sequential\n",
    "from tensorflow.keras.layers import Conv2D, MaxPooling2D, Dropout, Flatten, Dense, BatchNormalization\n",
    "from tensorflow.keras.preprocessing.image import ImageDataGenerator\n",
    "from tensorflow.keras.applications.inception_v3 import InceptionV3, preprocess_input\n",
    "from tensorflow.keras.layers import Dense, GlobalAveragePooling2D\n",
    "from tensorflow.keras.models import Model\n",
    "from tensorflow.keras.optimizers import Adam\n",
    "from tensorflow.keras.callbacks import EarlyStopping, ModelCheckpoint\n"
   ]
  },
  {
   "attachments": {},
   "cell_type": "markdown",
   "id": "f9f85aca",
   "metadata": {},
   "source": [
    "## Weigh classes appropriately"
   ]
  },
  {
   "cell_type": "code",
   "execution_count": 18,
   "id": "418c5b46",
   "metadata": {},
   "outputs": [],
   "source": [
    "from sklearn.utils.class_weight import compute_sample_weight\n",
    "\n",
    "weights = compute_sample_weight(class_weight='balanced', y=y_train)\n",
    "class_weights = dict(zip(np.unique(y_train), weights))"
   ]
  },
  {
   "attachments": {},
   "cell_type": "markdown",
   "id": "eb519b84",
   "metadata": {},
   "source": [
    "## Fine Tune InceptionV3"
   ]
  },
  {
   "cell_type": "code",
   "execution_count": 19,
   "id": "6d61b473",
   "metadata": {},
   "outputs": [
    {
     "name": "stderr",
     "output_type": "stream",
     "text": [
      "2023-07-26 21:32:09.717790: I tensorflow/core/common_runtime/gpu/gpu_device.cc:1635] Created device /job:localhost/replica:0/task:0/device:GPU:0 with 14585 MB memory:  -> device: 0, name: Tesla V100-SXM2-16GB, pci bus id: 0000:06:00.0, compute capability: 7.0\n",
      "2023-07-26 21:32:09.722300: I tensorflow/core/common_runtime/gpu/gpu_device.cc:1635] Created device /job:localhost/replica:0/task:0/device:GPU:1 with 14585 MB memory:  -> device: 1, name: Tesla V100-SXM2-16GB, pci bus id: 0000:07:00.0, compute capability: 7.0\n",
      "2023-07-26 21:32:09.724420: I tensorflow/core/common_runtime/gpu/gpu_device.cc:1635] Created device /job:localhost/replica:0/task:0/device:GPU:2 with 14585 MB memory:  -> device: 2, name: Tesla V100-SXM2-16GB, pci bus id: 0000:0a:00.0, compute capability: 7.0\n",
      "2023-07-26 21:32:09.726507: I tensorflow/core/common_runtime/gpu/gpu_device.cc:1635] Created device /job:localhost/replica:0/task:0/device:GPU:3 with 14585 MB memory:  -> device: 3, name: Tesla V100-SXM2-16GB, pci bus id: 0000:0b:00.0, compute capability: 7.0\n",
      "2023-07-26 21:32:09.728563: I tensorflow/core/common_runtime/gpu/gpu_device.cc:1635] Created device /job:localhost/replica:0/task:0/device:GPU:4 with 14585 MB memory:  -> device: 4, name: Tesla V100-SXM2-16GB, pci bus id: 0000:85:00.0, compute capability: 7.0\n",
      "2023-07-26 21:32:09.730734: I tensorflow/core/common_runtime/gpu/gpu_device.cc:1635] Created device /job:localhost/replica:0/task:0/device:GPU:5 with 14585 MB memory:  -> device: 5, name: Tesla V100-SXM2-16GB, pci bus id: 0000:86:00.0, compute capability: 7.0\n",
      "2023-07-26 21:32:09.732881: I tensorflow/core/common_runtime/gpu/gpu_device.cc:1635] Created device /job:localhost/replica:0/task:0/device:GPU:6 with 14585 MB memory:  -> device: 6, name: Tesla V100-SXM2-16GB, pci bus id: 0000:89:00.0, compute capability: 7.0\n",
      "2023-07-26 21:32:09.734975: I tensorflow/core/common_runtime/gpu/gpu_device.cc:1635] Created device /job:localhost/replica:0/task:0/device:GPU:7 with 14585 MB memory:  -> device: 7, name: Tesla V100-SXM2-16GB, pci bus id: 0000:8a:00.0, compute capability: 7.0\n"
     ]
    }
   ],
   "source": [
    "base_model = InceptionV3(weights='imagenet', include_top=False)\n",
    "for layer in base_model.layers:\n",
    "    layer.trainable = False"
   ]
  },
  {
   "attachments": {},
   "cell_type": "markdown",
   "id": "faaf437f",
   "metadata": {},
   "source": [
    "## Add additional layers"
   ]
  },
  {
   "cell_type": "code",
   "execution_count": 20,
   "id": "5aede76b",
   "metadata": {},
   "outputs": [],
   "source": [
    "x = base_model.output\n",
    "x = GlobalAveragePooling2D()(x)\n",
    "\n",
    "# Let's add a fully connected layer \n",
    "x = Dense(512, activation='relu')(x)\n",
    "x = Dropout(0.5)(x)  # Dropout layer for regularization\n",
    "\n",
    "# Let's add another fully connected layer\n",
    "x = Dense(256, activation='relu')(x)\n",
    "x = Dropout(0.5)(x)  # Dropout layer for regularization\n",
    "\n",
    "# And one final layer to output the prediction\n",
    "predictions = Dense(1, activation='sigmoid')(x)\n",
    "\n",
    "model = Model(inputs=base_model.input, outputs=predictions)"
   ]
  },
  {
   "cell_type": "code",
   "execution_count": 21,
   "id": "cf4fa353",
   "metadata": {},
   "outputs": [],
   "source": [
    "# Let's say you want a learning rate of 0.001\n",
    "opt = Adam(learning_rate=0.005)\n",
    "\n",
    "# Then compile the model\n",
    "model.compile(optimizer=opt, loss='binary_crossentropy', metrics=['accuracy'])"
   ]
  },
  {
   "cell_type": "code",
   "execution_count": 22,
   "id": "3d642278",
   "metadata": {},
   "outputs": [],
   "source": [
    "batch_size = 24\n",
    "epochs = 50"
   ]
  },
  {
   "attachments": {},
   "cell_type": "markdown",
   "id": "6fb148ec",
   "metadata": {},
   "source": [
    "Give this roughly 2 minutes to run"
   ]
  },
  {
   "cell_type": "code",
   "execution_count": 23,
   "id": "43de27f3",
   "metadata": {},
   "outputs": [],
   "source": [
    "# Assuming you already have the corresponding labels in y_train, y_val, y_test\n",
    "train_datagen = ImageDataGenerator(preprocessing_function=preprocess_input)\n",
    "valid_datagen = ImageDataGenerator(preprocessing_function=preprocess_input)\n",
    "test_datagen = ImageDataGenerator(preprocessing_function=preprocess_input)\n",
    "\n",
    "train_generator = train_datagen.flow(\n",
    "    X_train,\n",
    "    y_train,\n",
    "    batch_size=batch_size,\n",
    "    shuffle=True)\n",
    "\n",
    "validation_generator = valid_datagen.flow(\n",
    "    X_val,\n",
    "    y_val,\n",
    "    batch_size=batch_size,\n",
    "    shuffle=True)\n",
    "\n",
    "test_generator = test_datagen.flow(\n",
    "    X_test,\n",
    "    y_test,\n",
    "    batch_size=1,\n",
    "    shuffle=False)"
   ]
  },
  {
   "attachments": {},
   "cell_type": "markdown",
   "id": "c784949f",
   "metadata": {},
   "source": [
    "## Train the model"
   ]
  },
  {
   "cell_type": "code",
   "execution_count": 24,
   "id": "2072d043",
   "metadata": {},
   "outputs": [
    {
     "name": "stdout",
     "output_type": "stream",
     "text": [
      "Epoch 1/50\n"
     ]
    },
    {
     "name": "stderr",
     "output_type": "stream",
     "text": [
      "2023-07-26 21:32:15.589949: I tensorflow/core/common_runtime/executor.cc:1197] [/device:CPU:0] (DEBUG INFO) Executor start aborting (this does not indicate an error and you can ignore this message): INVALID_ARGUMENT: You must feed a value for placeholder tensor 'Placeholder/_0' with dtype int32\n",
      "\t [[{{node Placeholder/_0}}]]\n",
      "2023-07-26 21:32:21.559460: I tensorflow/compiler/xla/stream_executor/cuda/cuda_dnn.cc:424] Loaded cuDNN version 8600\n",
      "2023-07-26 21:32:25.866695: I tensorflow/compiler/xla/service/service.cc:169] XLA service 0xbf346090 initialized for platform CUDA (this does not guarantee that XLA will be used). Devices:\n",
      "2023-07-26 21:32:25.866744: I tensorflow/compiler/xla/service/service.cc:177]   StreamExecutor device (0): Tesla V100-SXM2-16GB, Compute Capability 7.0\n",
      "2023-07-26 21:32:25.866751: I tensorflow/compiler/xla/service/service.cc:177]   StreamExecutor device (1): Tesla V100-SXM2-16GB, Compute Capability 7.0\n",
      "2023-07-26 21:32:25.866757: I tensorflow/compiler/xla/service/service.cc:177]   StreamExecutor device (2): Tesla V100-SXM2-16GB, Compute Capability 7.0\n",
      "2023-07-26 21:32:25.866763: I tensorflow/compiler/xla/service/service.cc:177]   StreamExecutor device (3): Tesla V100-SXM2-16GB, Compute Capability 7.0\n",
      "2023-07-26 21:32:25.866769: I tensorflow/compiler/xla/service/service.cc:177]   StreamExecutor device (4): Tesla V100-SXM2-16GB, Compute Capability 7.0\n",
      "2023-07-26 21:32:25.866775: I tensorflow/compiler/xla/service/service.cc:177]   StreamExecutor device (5): Tesla V100-SXM2-16GB, Compute Capability 7.0\n",
      "2023-07-26 21:32:25.866781: I tensorflow/compiler/xla/service/service.cc:177]   StreamExecutor device (6): Tesla V100-SXM2-16GB, Compute Capability 7.0\n",
      "2023-07-26 21:32:25.866787: I tensorflow/compiler/xla/service/service.cc:177]   StreamExecutor device (7): Tesla V100-SXM2-16GB, Compute Capability 7.0\n",
      "2023-07-26 21:32:25.872971: I tensorflow/compiler/mlir/tensorflow/utils/dump_mlir_util.cc:269] disabling MLIR crash reproducer, set env var `MLIR_CRASH_REPRODUCER_DIRECTORY` to enable.\n",
      "2023-07-26 21:32:26.055773: I ./tensorflow/compiler/jit/device_compiler.h:180] Compiled cluster using XLA!  This line is logged at most once for the lifetime of the process.\n"
     ]
    },
    {
     "name": "stdout",
     "output_type": "stream",
     "text": [
      "47/47 [==============================] - ETA: 0s - loss: 0.8558 - accuracy: 0.8413"
     ]
    },
    {
     "name": "stderr",
     "output_type": "stream",
     "text": [
      "2023-07-26 21:32:28.652779: I tensorflow/core/common_runtime/executor.cc:1197] [/device:CPU:0] (DEBUG INFO) Executor start aborting (this does not indicate an error and you can ignore this message): INVALID_ARGUMENT: You must feed a value for placeholder tensor 'Placeholder/_0' with dtype int32\n",
      "\t [[{{node Placeholder/_0}}]]\n"
     ]
    },
    {
     "name": "stdout",
     "output_type": "stream",
     "text": [
      "47/47 [==============================] - 16s 107ms/step - loss: 0.8558 - accuracy: 0.8413 - val_loss: 1.3453 - val_accuracy: 0.7074\n",
      "Epoch 2/50\n",
      "47/47 [==============================] - 4s 89ms/step - loss: 0.1665 - accuracy: 0.9468 - val_loss: 0.9908 - val_accuracy: 0.7855\n",
      "Epoch 3/50\n",
      "47/47 [==============================] - 4s 92ms/step - loss: 0.0916 - accuracy: 0.9638 - val_loss: 3.1987 - val_accuracy: 0.6064\n",
      "Epoch 4/50\n",
      "47/47 [==============================] - 4s 86ms/step - loss: 0.1573 - accuracy: 0.9539 - val_loss: 1.1786 - val_accuracy: 0.7784\n",
      "Epoch 5/50\n",
      "47/47 [==============================] - 4s 85ms/step - loss: 0.0767 - accuracy: 0.9672 - val_loss: 1.3436 - val_accuracy: 0.8094\n",
      "Epoch 6/50\n",
      "47/47 [==============================] - 4s 92ms/step - loss: 0.1215 - accuracy: 0.9645 - val_loss: 1.0893 - val_accuracy: 0.8227\n",
      "Epoch 7/50\n",
      "47/47 [==============================] - 4s 88ms/step - loss: 0.0781 - accuracy: 0.9734 - val_loss: 2.0672 - val_accuracy: 0.7438\n",
      "Epoch 8/50\n",
      "47/47 [==============================] - 4s 86ms/step - loss: 0.0566 - accuracy: 0.9787 - val_loss: 2.3297 - val_accuracy: 0.7367\n",
      "Epoch 9/50\n",
      "47/47 [==============================] - 4s 87ms/step - loss: 0.1167 - accuracy: 0.9665 - val_loss: 2.7547 - val_accuracy: 0.7234\n",
      "Epoch 10/50\n",
      "47/47 [==============================] - 4s 86ms/step - loss: 0.0985 - accuracy: 0.9761 - val_loss: 2.1184 - val_accuracy: 0.7172\n",
      "Epoch 11/50\n",
      "47/47 [==============================] - 4s 83ms/step - loss: 0.0742 - accuracy: 0.9747 - val_loss: 1.3554 - val_accuracy: 0.8280\n",
      "Epoch 12/50\n",
      "47/47 [==============================] - 4s 87ms/step - loss: 0.0944 - accuracy: 0.9720 - val_loss: 1.6407 - val_accuracy: 0.7624\n",
      "Epoch 13/50\n",
      "47/47 [==============================] - 4s 82ms/step - loss: 0.0442 - accuracy: 0.9864 - val_loss: 1.8310 - val_accuracy: 0.7562\n",
      "Epoch 14/50\n",
      "47/47 [==============================] - 4s 85ms/step - loss: 0.0523 - accuracy: 0.9805 - val_loss: 2.5007 - val_accuracy: 0.6906\n",
      "Epoch 15/50\n",
      "47/47 [==============================] - 4s 82ms/step - loss: 0.0674 - accuracy: 0.9787 - val_loss: 1.6036 - val_accuracy: 0.7571\n",
      "Epoch 16/50\n",
      "47/47 [==============================] - 4s 82ms/step - loss: 0.0472 - accuracy: 0.9858 - val_loss: 1.9368 - val_accuracy: 0.7580\n",
      "Epoch 17/50\n",
      "47/47 [==============================] - 4s 83ms/step - loss: 0.0553 - accuracy: 0.9849 - val_loss: 1.4850 - val_accuracy: 0.7633\n",
      "Epoch 18/50\n",
      "47/47 [==============================] - 4s 82ms/step - loss: 0.0391 - accuracy: 0.9882 - val_loss: 2.3149 - val_accuracy: 0.7491\n",
      "Epoch 19/50\n",
      "47/47 [==============================] - 4s 81ms/step - loss: 0.0563 - accuracy: 0.9774 - val_loss: 2.1277 - val_accuracy: 0.7677\n",
      "Epoch 20/50\n",
      "47/47 [==============================] - 4s 86ms/step - loss: 0.0516 - accuracy: 0.9823 - val_loss: 1.4860 - val_accuracy: 0.8085\n",
      "Epoch 21/50\n",
      "47/47 [==============================] - 4s 85ms/step - loss: 0.0613 - accuracy: 0.9837 - val_loss: 1.2615 - val_accuracy: 0.7810\n",
      "Epoch 22/50\n",
      "47/47 [==============================] - 4s 85ms/step - loss: 0.0618 - accuracy: 0.9774 - val_loss: 1.4717 - val_accuracy: 0.7899\n",
      "Epoch 23/50\n",
      "47/47 [==============================] - 4s 83ms/step - loss: 0.0396 - accuracy: 0.9885 - val_loss: 1.5439 - val_accuracy: 0.7598\n",
      "Epoch 24/50\n",
      "47/47 [==============================] - 4s 84ms/step - loss: 0.0331 - accuracy: 0.9858 - val_loss: 3.6863 - val_accuracy: 0.7030\n",
      "Epoch 25/50\n",
      "47/47 [==============================] - 4s 82ms/step - loss: 0.1759 - accuracy: 0.9584 - val_loss: 2.7199 - val_accuracy: 0.7491\n",
      "Epoch 26/50\n",
      "47/47 [==============================] - 4s 81ms/step - loss: 0.1557 - accuracy: 0.9628 - val_loss: 2.6718 - val_accuracy: 0.7190\n",
      "Epoch 27/50\n",
      "47/47 [==============================] - 4s 85ms/step - loss: 0.0432 - accuracy: 0.9901 - val_loss: 3.2117 - val_accuracy: 0.7243\n",
      "Epoch 28/50\n",
      "47/47 [==============================] - 4s 82ms/step - loss: 0.0201 - accuracy: 0.9938 - val_loss: 3.0046 - val_accuracy: 0.7376\n",
      "Epoch 29/50\n",
      "47/47 [==============================] - 4s 85ms/step - loss: 0.0314 - accuracy: 0.9920 - val_loss: 3.1563 - val_accuracy: 0.7287\n",
      "Epoch 30/50\n",
      "47/47 [==============================] - 4s 89ms/step - loss: 0.0455 - accuracy: 0.9873 - val_loss: 2.3193 - val_accuracy: 0.7243\n",
      "Epoch 31/50\n",
      "47/47 [==============================] - 4s 86ms/step - loss: 0.0386 - accuracy: 0.9855 - val_loss: 1.5201 - val_accuracy: 0.8324\n",
      "Epoch 32/50\n",
      "47/47 [==============================] - 4s 80ms/step - loss: 0.0668 - accuracy: 0.9855 - val_loss: 1.9683 - val_accuracy: 0.8103\n",
      "Epoch 33/50\n",
      "47/47 [==============================] - 4s 87ms/step - loss: 0.0540 - accuracy: 0.9832 - val_loss: 2.0823 - val_accuracy: 0.7872\n",
      "Epoch 34/50\n",
      "47/47 [==============================] - 4s 88ms/step - loss: 0.0177 - accuracy: 0.9928 - val_loss: 2.3169 - val_accuracy: 0.7757\n",
      "Epoch 35/50\n",
      "47/47 [==============================] - 4s 84ms/step - loss: 0.0151 - accuracy: 0.9929 - val_loss: 3.6652 - val_accuracy: 0.7482\n",
      "Epoch 36/50\n",
      "47/47 [==============================] - 4s 81ms/step - loss: 0.0305 - accuracy: 0.9920 - val_loss: 2.5139 - val_accuracy: 0.7952\n",
      "Epoch 37/50\n",
      "47/47 [==============================] - 4s 85ms/step - loss: 0.0394 - accuracy: 0.9910 - val_loss: 1.9415 - val_accuracy: 0.8440\n",
      "Epoch 38/50\n",
      "47/47 [==============================] - 4s 84ms/step - loss: 0.0299 - accuracy: 0.9902 - val_loss: 2.5978 - val_accuracy: 0.7739\n",
      "Epoch 39/50\n",
      "47/47 [==============================] - 4s 83ms/step - loss: 0.0185 - accuracy: 0.9911 - val_loss: 2.8749 - val_accuracy: 0.7677\n",
      "Epoch 40/50\n",
      "47/47 [==============================] - 4s 85ms/step - loss: 0.0234 - accuracy: 0.9919 - val_loss: 3.1773 - val_accuracy: 0.7332\n",
      "Epoch 41/50\n",
      "47/47 [==============================] - 4s 83ms/step - loss: 0.0055 - accuracy: 0.9991 - val_loss: 4.2087 - val_accuracy: 0.7376\n",
      "Epoch 42/50\n",
      "47/47 [==============================] - 4s 82ms/step - loss: 0.0138 - accuracy: 0.9946 - val_loss: 5.9071 - val_accuracy: 0.7110\n",
      "Epoch 43/50\n",
      "47/47 [==============================] - 4s 83ms/step - loss: 0.1052 - accuracy: 0.9814 - val_loss: 1.8461 - val_accuracy: 0.7695\n",
      "Epoch 44/50\n",
      "47/47 [==============================] - 5s 96ms/step - loss: 0.0466 - accuracy: 0.9885 - val_loss: 3.0875 - val_accuracy: 0.7934\n",
      "Epoch 45/50\n",
      "47/47 [==============================] - 4s 78ms/step - loss: 0.0704 - accuracy: 0.9801 - val_loss: 2.9623 - val_accuracy: 0.7332\n",
      "Epoch 46/50\n",
      "47/47 [==============================] - 4s 86ms/step - loss: 0.0551 - accuracy: 0.9787 - val_loss: 1.6110 - val_accuracy: 0.8191\n",
      "Epoch 47/50\n",
      "47/47 [==============================] - 4s 80ms/step - loss: 0.0605 - accuracy: 0.9783 - val_loss: 3.5490 - val_accuracy: 0.7420\n",
      "Epoch 48/50\n",
      "47/47 [==============================] - 4s 88ms/step - loss: 0.0675 - accuracy: 0.9796 - val_loss: 2.0123 - val_accuracy: 0.7934\n",
      "Epoch 49/50\n",
      "47/47 [==============================] - 4s 79ms/step - loss: 0.0534 - accuracy: 0.9840 - val_loss: 1.9422 - val_accuracy: 0.7837\n",
      "Epoch 50/50\n",
      "47/47 [==============================] - 4s 82ms/step - loss: 0.0278 - accuracy: 0.9911 - val_loss: 2.9122 - val_accuracy: 0.7589\n"
     ]
    }
   ],
   "source": [
    "# early_stop = EarlyStopping(monitor='val_loss', patience=5)\n",
    "\n",
    "# code to decrease step size\n",
    "max_steps = len(X_train) // batch_size\n",
    "steps = max_steps // 2\n",
    "\n",
    "history = model.fit(\n",
    "    train_generator,\n",
    "    steps_per_epoch = steps,\n",
    "    epochs=epochs,\n",
    "    validation_data=validation_generator,\n",
    "    validation_steps = steps,\n",
    "    class_weight=class_weights)"
   ]
  },
  {
   "attachments": {},
   "cell_type": "markdown",
   "id": "4709453b",
   "metadata": {},
   "source": [
    "## Save the weights as a .h5 file\n",
    "Also save the history of the model as a .csv file"
   ]
  },
  {
   "cell_type": "code",
   "execution_count": 25,
   "id": "51d323d1",
   "metadata": {},
   "outputs": [],
   "source": [
    "import pandas as pd\n",
    "model.save('inception_tuned.h5')\n",
    "# Convert the history.history dict to a pandas DataFrame\n",
    "hist_df = pd.DataFrame(history.history)\n",
    "\n",
    "# Save to csv\n",
    "hist_csv_file = 'inception_tuned.csv'\n",
    "with open(hist_csv_file, mode='w') as f:\n",
    "    hist_df.to_csv(f)"
   ]
  },
  {
   "attachments": {},
   "cell_type": "markdown",
   "id": "2b966c58",
   "metadata": {},
   "source": [
    "## Evaluate the model\n",
    "Using our custom metrics. Load in the file."
   ]
  },
  {
   "cell_type": "code",
   "execution_count": null,
   "id": "91b1cc7f",
   "metadata": {},
   "outputs": [],
   "source": [
    "import pandas as pd\n",
    "from tensorflow.keras.models import load_model\n",
    "\n",
    "# Register the custom metric function\n",
    "my_model = load_model('inception_tuned.h5')\n",
    "\n",
    "my_model_history = pd.read_csv(\n",
    "    'inception_tuned.csv')\n"
   ]
  },
  {
   "cell_type": "code",
   "execution_count": null,
   "id": "e6ed7d9b",
   "metadata": {},
   "outputs": [
    {
     "name": "stdout",
     "output_type": "stream",
     "text": [
      "18/18 [==============================] - 3s 77ms/step\n"
     ]
    }
   ],
   "source": [
    "predictions = my_model.predict(X_test)"
   ]
  },
  {
   "cell_type": "code",
   "execution_count": null,
   "id": "2fd256a8",
   "metadata": {},
   "outputs": [],
   "source": [
    "from sklearn.metrics import accuracy_score\n",
    "\n",
    "# Convert predictions to binary format\n",
    "predictions_binary = (predictions >= 0.5).astype(int)\n",
    "\n",
    "# Calculate accuracy\n",
    "acc = accuracy_score(y_test, predictions_binary)"
   ]
  },
  {
   "cell_type": "code",
   "execution_count": null,
   "id": "47c8e498",
   "metadata": {},
   "outputs": [
    {
     "name": "stdout",
     "output_type": "stream",
     "text": [
      "Testing accuracy: 0.43963963963963965\n"
     ]
    }
   ],
   "source": [
    "print(f\"Testing accuracy: {acc}\")"
   ]
  },
  {
   "cell_type": "code",
   "execution_count": null,
   "id": "1820f6b6",
   "metadata": {},
   "outputs": [
    {
     "name": "stdout",
     "output_type": "stream",
     "text": [
      "270 (48.64864864864865%) are frost out of 555\n",
      "Predicted 52 were frost\n"
     ]
    }
   ],
   "source": [
    "frost_count = 0\n",
    "for item in y_test:\n",
    "    frost_count += item\n",
    "\n",
    "print(f\"{frost_count} ({100*(frost_count / len(y_test))}%) are frost out of {len(y_test)}\")\n",
    "\n",
    "pred_frost_count = 0\n",
    "for i in range(500, len(y_test)):\n",
    "    pred_frost_count += predictions_binary[i][0]\n",
    "\n",
    "print(f\"Predicted {pred_frost_count} were frost\")"
   ]
  }
 ],
 "metadata": {
  "kernelspec": {
   "display_name": "Python 3",
   "language": "python",
   "name": "python3"
  },
  "language_info": {
   "codemirror_mode": {
    "name": "ipython",
    "version": 3
   },
   "file_extension": ".py",
   "mimetype": "text/x-python",
   "name": "python",
   "nbconvert_exporter": "python",
   "pygments_lexer": "ipython3",
   "version": "3.11.4"
  }
 },
 "nbformat": 4,
 "nbformat_minor": 5
}
