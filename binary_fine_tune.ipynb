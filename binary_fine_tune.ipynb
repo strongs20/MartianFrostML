{
 "cells": [
  {
   "cell_type": "code",
   "execution_count": 1,
   "id": "d691dba5",
   "metadata": {},
   "outputs": [],
   "source": [
    "import os\n",
    "os.environ[\"CUDA_VISIBLE_DEVICES\"]=\"6\""
   ]
  },
  {
   "attachments": {},
   "cell_type": "markdown",
   "id": "4e3ba116",
   "metadata": {},
   "source": [
    "# Martian Frost HiRISE Image Classification\n",
    "* Data confidence weighting\n",
    "* Predicts frost_context probabilities\n",
    "\n",
    "Outside of built-in python 3 libraries, this code uses numpy, skimage, tqdm, PIL, matplotlib, and tensorflow."
   ]
  },
  {
   "cell_type": "code",
   "execution_count": 2,
   "id": "6928e0e4",
   "metadata": {},
   "outputs": [],
   "source": [
    "import os\n",
    "import os.path as op\n",
    "import json\n",
    "from pathlib import Path\n",
    "import shutil\n",
    "import logging\n",
    "\n",
    "import numpy as np\n",
    "from tqdm import tqdm\n",
    "from skimage import io\n",
    "\n",
    "# Logging configuration\n",
    "logging.basicConfig(level=logging.INFO,\n",
    "                    datefmt='%H:%M:%S',\n",
    "                    format='%(asctime)s | %(levelname)-5s | %(module)-15s | %(message)s')\n",
    "\n",
    "IMAGE_SIZE = (299, 299)  # All images contained in this dataset are 299x299 (originally, to match Inception v3 input size)\n",
    "SEED = 17\n",
    "\n",
    "# Head directory containing all image subframes\n",
    "data_head_dir = Path('./data')\n",
    "\n",
    "# Find all subframe directories\n",
    "subdirs = [Path(subdir.stem) for subdir in data_head_dir.iterdir() if subdir.is_dir()]\n",
    "src_image_ids = ['_'.join(a_path.name.split('_')[:3]) for a_path in subdirs]"
   ]
  },
  {
   "attachments": {},
   "cell_type": "markdown",
   "id": "624825ed",
   "metadata": {},
   "source": [
    "# Suggested Data Split\n",
    "\n",
    "Use the suggested train/val/test split to avoid data leakage across each data subset from a geospatial perspective."
   ]
  },
  {
   "cell_type": "code",
   "execution_count": 3,
   "id": "5356902f",
   "metadata": {},
   "outputs": [],
   "source": [
    "# Load train/val/test subframe IDs\n",
    "def load_text_ids(file_path):\n",
    "    \"\"\"Simple helper to load all lines from a text file\"\"\"\n",
    "    with open(file_path, 'r') as f:\n",
    "        lines = [line.strip() for line in f.readlines()]\n",
    "    return lines\n",
    "\n",
    "# Load the subframe names for the three data subsets\n",
    "train_ids = load_text_ids('./splits/train_source_images.txt')\n",
    "validate_ids = load_text_ids('./splits/val_source_images.txt')\n",
    "test_ids = load_text_ids('./splits/test_source_images.txt')"
   ]
  },
  {
   "attachments": {},
   "cell_type": "markdown",
   "id": "94de20dd",
   "metadata": {},
   "source": [
    "## Prepare data as numpy arrays\n",
    "\n",
    "Load the data and pair a tile with its label. Each tile is stored in a numpy array under its parent. Each tile is a data object containing the following parameters:\n",
    "* `tile`: the png image data\n",
    "* `class`: the class of the tile\n",
    "* `file`: the filename of the tile\n",
    "* `defrosting`: whether the image contains defrosting marks\n",
    "* `uniform_albedo`: whether the image contains uniform albedo"
   ]
  },
  {
   "cell_type": "code",
   "execution_count": 4,
   "id": "4f95ade9",
   "metadata": {},
   "outputs": [],
   "source": [
    "from skimage import io, color\n",
    "# modified this function to pair a tile with its label\n",
    "\n",
    "limit_tiles_per_img = True\n",
    "tile_limit = 120\n",
    "\n",
    "def load_images(dir_path, isTrain = False):\n",
    "\n",
    "    tile_dir = dir_path / Path('tiles')\n",
    "    images = {'file': dir_path.stem, 'class': '', 'tiles': []}\n",
    "\n",
    "    for root, dirs, files in os.walk(tile_dir):\n",
    "        for file in files:\n",
    "            file = Path(file)\n",
    "            if file.suffix == '.png':\n",
    "                fp = os.path.join(root, file)\n",
    "                \n",
    "                # Extract the image class label from the filepath. This (and additional) info is also in the label jsons\n",
    "                image_class = Path(root).stem\n",
    "                contains_defrosting = 0\n",
    "                contains_uniform = 0\n",
    "                \n",
    "                if images['class'] == '':\n",
    "                    images['class'] = image_class\n",
    "                \n",
    "                # Load the image, save it to our list\n",
    "                img = io.imread(fp)\n",
    "\n",
    "                if len(img.shape) == 2:  # check if the image is grayscale\n",
    "                    img = color.gray2rgb(img)  # convert to RGB\n",
    "\n",
    "                # locate the associated label json\n",
    "                label_fp = op.join(dir_path, 'labels', image_class, f'{file.stem}.json')\n",
    "                with open(label_fp, 'r') as f:\n",
    "                    label_json = json.load(f)\n",
    "                \n",
    "                for annotation in label_json[\"annotations\"]:\n",
    "                    for context in annotation['frost_context']:\n",
    "                        mult = 0\n",
    "                        # can adjust confidence weights in the future and compute averages\n",
    "                        if annotation['confidence'] == \"high_90\" or annotation['confidence'] == \"medium_70_89\":\n",
    "                            mult = 1\n",
    "                        if context == \"defrosting_marks\":\n",
    "                            contains_defrosting += mult\n",
    "                        if context == \"uniform_albedo\":\n",
    "                            contains_uniform += mult\n",
    "                \n",
    "                if image_class == 'frost':\n",
    "                    if contains_defrosting > 0:\n",
    "                        contains_defrosting = 1\n",
    "                    if contains_uniform > 0:\n",
    "                        contains_uniform = 1\n",
    "\n",
    "                combined_entry = {\"tile\": img,\n",
    "                                  \"class\": label_json['class'],\n",
    "                                  \"defrosting\": contains_defrosting,\n",
    "                                  \"uniform_albedo\": contains_uniform,\n",
    "                                  \"file\": file.stem}\n",
    "                \n",
    "                images['tiles'].append(combined_entry)\n",
    "    if limit_tiles_per_img and isTrain:\n",
    "        img_tiles = images['tiles']\n",
    "        lim = min(tile_limit, len(img_tiles))\n",
    "        tiles_lim = np.random.choice(img_tiles, lim, replace=False)\n",
    "        images['tiles'] = tiles_lim\n",
    "    return images"
   ]
  },
  {
   "attachments": {},
   "cell_type": "markdown",
   "id": "fceb748e",
   "metadata": {},
   "source": [
    "## Split the data into train/val/test\n",
    "Make use of load_images above and bin the data properly. It will bin according to the txt files imported above."
   ]
  },
  {
   "cell_type": "code",
   "execution_count": 5,
   "id": "482aab88",
   "metadata": {},
   "outputs": [
    {
     "name": "stderr",
     "output_type": "stream",
     "text": [
      "14:58:13 | INFO  | 4206069636      | Loading ML data from 214 subframes.\n",
      "Creating Dataset as Numpy array: 100%|██████████| 214/214 [01:27<00:00,  2.44it/s]\n"
     ]
    }
   ],
   "source": [
    "all_data = []\n",
    "train_data = []\n",
    "validate_data = []\n",
    "test_data = []\n",
    "logging.info(f'Loading ML data from {len(subdirs)} subframes.')\n",
    "for subdir in tqdm(subdirs, desc='Creating Dataset as Numpy array'):\n",
    "    full_path = data_head_dir / subdir\n",
    "    for i in range(len(train_ids)):\n",
    "        if train_ids[i] in str(full_path):\n",
    "            lidata = load_images(full_path, True)\n",
    "            train_data.append(lidata)\n",
    "            all_data.append(lidata)\n",
    "    for j in range(len(validate_ids)):\n",
    "        if validate_ids[j] in str(full_path):\n",
    "            lidata = load_images(full_path)\n",
    "            validate_data.append(lidata)\n",
    "            all_data.append(lidata)\n",
    "    for k in range(len(test_ids)):\n",
    "        if test_ids[k] in str(full_path):\n",
    "            lidata = load_images(full_path)\n",
    "            test_data.append(lidata)\n",
    "            all_data.append(lidata)"
   ]
  },
  {
   "attachments": {},
   "cell_type": "markdown",
   "id": "579e8343",
   "metadata": {},
   "source": [
    "## Check the size of each bin\n",
    "Just to check and make sure we binned correctly!"
   ]
  },
  {
   "cell_type": "code",
   "execution_count": 6,
   "id": "0b0a93c6",
   "metadata": {},
   "outputs": [
    {
     "name": "stdout",
     "output_type": "stream",
     "text": [
      "Good to go!\n",
      "    -> Dataset size: 214\n",
      "    -> Train size: 102\n",
      "    -> Validate size: 55\n",
      "    -> Test size: 57\n"
     ]
    }
   ],
   "source": [
    "if (len(train_data) + len(validate_data) + len(test_data)) != len(all_data):\n",
    "    print(\"Error: Data not loaded and/or binned correctly\")\n",
    "else:\n",
    "    print(\"Good to go!\")\n",
    "    # print all lengths, and the amount with frost/background class\n",
    "    print(f\"    -> Dataset size: {len(all_data)}\")\n",
    "    print(f\"    -> Train size: {len(train_data)}\")\n",
    "    print(f\"    -> Validate size: {len(validate_data)}\")\n",
    "    print(\n",
    "        f\"    -> Test size: {len(test_data)}\")\n"
   ]
  },
  {
   "attachments": {},
   "cell_type": "markdown",
   "id": "5e75a93f",
   "metadata": {},
   "source": [
    "## Inspect Data Distribution"
   ]
  },
  {
   "cell_type": "code",
   "execution_count": 7,
   "id": "1da41aa2",
   "metadata": {},
   "outputs": [
    {
     "name": "stdout",
     "output_type": "stream",
     "text": [
      "Tile Count: 23062\n",
      "Frost Count: 11386\n",
      "Uniform Albedo Count: 9421\n",
      "Defrosting Marks Count: 6584\n",
      "Uniform and Defrosting (both) Count: 6478\n"
     ]
    }
   ],
   "source": [
    "ua_count = 0\n",
    "de_count = 0\n",
    "both_count = 0\n",
    "f_count = 0\n",
    "t_count = 0\n",
    "\n",
    "for image in all_data:\n",
    "    for tile in image['tiles']:\n",
    "        t_count += 1\n",
    "        de_count += tile['defrosting']\n",
    "        ua_count += tile['uniform_albedo']\n",
    "        if tile['defrosting'] == 1 and tile['uniform_albedo'] == 1:\n",
    "            both_count += 1\n",
    "        if image['class'] == 'frost':\n",
    "            f_count += 1\n",
    "\n",
    "print(f\"Tile Count: {t_count}\")\n",
    "print(f\"Frost Count: {f_count}\")\n",
    "print(f\"Uniform Albedo Count: {ua_count}\")\n",
    "print(f\"Defrosting Marks Count: {de_count}\")\n",
    "print(f\"Uniform and Defrosting (both) Count: {both_count}\")"
   ]
  },
  {
   "attachments": {},
   "cell_type": "markdown",
   "id": "9ed30b90",
   "metadata": {},
   "source": [
    "## Print a random tile and its class\n",
    "Print a random tile and its data to make sure everything is working properly."
   ]
  },
  {
   "cell_type": "code",
   "execution_count": 8,
   "id": "eda3f8ba",
   "metadata": {},
   "outputs": [
    {
     "data": {
      "image/png": "[encoded data removed]",
      "text/plain": [
       "<Figure size 640x480 with 1 Axes>"
      ]
     },
     "metadata": {},
     "output_type": "display_data"
    }
   ],
   "source": [
    "import matplotlib.pyplot as plt\n",
    "import random\n",
    "\n",
    "def display_random_image_and_json(some_data):\n",
    "    # Pick a random image that has frost\n",
    "    idx = random.choice(range(len(some_data)))\n",
    "    tile_i = random.choice(range(len(some_data[idx]['tiles'])))\n",
    "    img_dict = some_data[idx]['tiles'][tile_i]\n",
    "\n",
    "    img = img_dict['tile']\n",
    "\n",
    "    # Plot the image\n",
    "    fig, ax = plt.subplots()\n",
    "    ax.imshow(img)\n",
    "\n",
    "    # Set the title\n",
    "    ax.set_title(\n",
    "        f\"Filename: {img_dict['file']}\\n Class: {img_dict['class']}, Uniform: {img_dict['uniform_albedo']}, Defrosting: {img_dict['defrosting']}\")\n",
    "\n",
    "    plt.show()\n",
    "\n",
    "\n",
    "display_random_image_and_json(all_data)\n"
   ]
  },
  {
   "attachments": {},
   "cell_type": "markdown",
   "id": "3e234192",
   "metadata": {},
   "source": [
    "## Preprocess data"
   ]
  },
  {
   "attachments": {},
   "cell_type": "markdown",
   "id": "071ef5e5",
   "metadata": {},
   "source": [
    "Gather and bin the data"
   ]
  },
  {
   "cell_type": "code",
   "execution_count": 9,
   "id": "f8046a1d",
   "metadata": {},
   "outputs": [],
   "source": [
    "# If this is true, only tiles with uniform albedo and/or defrosting marks will be treated as frost\n",
    "only_class = False\n",
    "\n",
    "# Train Data\n",
    "X_train = []\n",
    "y_train = []\n",
    "for i in range(len(train_data)):\n",
    "    for j in range(len(train_data[i]['tiles'])):\n",
    "        X_train.append(train_data[i]['tiles'][j]['tile'])\n",
    "        if only_class:\n",
    "            result_both = train_data[i]['tiles'][j]['defrosting'] + train_data[i]['tiles'][j]['uniform_albedo']\n",
    "            y_train.append(int(result_both > 0))\n",
    "        else:\n",
    "            y_train.append(int(train_data[i]['tiles'][j]['class'] == \"frost\"))\n",
    "\n",
    "# Validate Data\n",
    "X_val = []\n",
    "y_val = []\n",
    "for i in range(len(validate_data)):\n",
    "    for j in range(len(validate_data[i]['tiles'])):\n",
    "        X_val.append(validate_data[i]['tiles'][j]['tile'])\n",
    "        if only_class:\n",
    "            result_both = validate_data[i]['tiles'][j]['defrosting'] + validate_data[i]['tiles'][j]['uniform_albedo']\n",
    "            y_val.append(int(result_both > 0))\n",
    "        else:\n",
    "            y_val.append(int(validate_data[i]['tiles'][j]['class'] == \"frost\"))\n",
    "\n",
    "# Test Data\n",
    "X_test = []\n",
    "y_test = []\n",
    "for i in range(len(test_data)):\n",
    "    for j in range(len(test_data[i]['tiles'])):\n",
    "        X_test.append(test_data[i]['tiles'][j]['tile'])\n",
    "        if only_class:\n",
    "            result_both = test_data[i]['tiles'][j]['defrosting'] + test_data[i]['tiles'][j]['uniform_albedo']\n",
    "            y_test.append(int(result_both > 0))\n",
    "        else:\n",
    "            y_test.append(int(test_data[i]['tiles'][j]['class'] == \"frost\"))"
   ]
  },
  {
   "attachments": {},
   "cell_type": "markdown",
   "id": "a081bbc9",
   "metadata": {},
   "source": [
    "Format the data"
   ]
  },
  {
   "cell_type": "code",
   "execution_count": 10,
   "id": "0400e3ff",
   "metadata": {},
   "outputs": [],
   "source": [
    "# Convert lists to numpy array\n",
    "X_train = np.array(X_train)\n",
    "X_val = np.array(X_val)\n",
    "X_test = np.array(X_test)\n",
    "y_train = np.array(y_train)\n",
    "y_val = np.array(y_val)\n",
    "y_test = np.array(y_test)"
   ]
  },
  {
   "cell_type": "code",
   "execution_count": 11,
   "id": "1f43f650",
   "metadata": {},
   "outputs": [
    {
     "name": "stdout",
     "output_type": "stream",
     "text": [
      "3790 (52.63157894736842%) are frost out of 7201 in the training set\n"
     ]
    }
   ],
   "source": [
    "frost_count = 0\n",
    "for item in y_train:\n",
    "    frost_count += item\n",
    "\n",
    "print(f\"{frost_count} ({100*(frost_count / len(y_train))}%) are frost out of {len(y_train)} in the training set\")"
   ]
  },
  {
   "cell_type": "code",
   "execution_count": 12,
   "id": "50a8aada",
   "metadata": {},
   "outputs": [
    {
     "name": "stdout",
     "output_type": "stream",
     "text": [
      "1822 (23.09544935986817%) are frost out of 7889 in the validation set\n",
      "1822 (50.0%) are frost out of 3644 in the validation set\n"
     ]
    }
   ],
   "source": [
    "frost_count = 0\n",
    "for item in y_val:\n",
    "    frost_count += item\n",
    "\n",
    "print(f\"{frost_count} ({100*(frost_count / len(y_val))}%) are frost out of {len(y_val)} in the validation set\")\n",
    "\n",
    "import numpy as np\n",
    "\n",
    "# get the indices of 0's and 1's\n",
    "indices_0 = np.where(y_val == 0)[0]\n",
    "indices_1 = np.where(y_val == 1)[0]\n",
    "\n",
    "# number of 0's and 1's\n",
    "num_0 = len(indices_0)\n",
    "num_1 = len(indices_1)\n",
    "\n",
    "# choose random indices of 0's equal to the size of 1's\n",
    "random_indices_0 = np.random.choice(indices_0, num_1, replace=False)\n",
    "\n",
    "# combine the random indices of 0's with indices of 1's\n",
    "combined_indices = np.concatenate((random_indices_0, indices_1))\n",
    "\n",
    "# select the balanced data\n",
    "X_val_balanced = X_val[combined_indices]\n",
    "y_val_balanced = y_val[combined_indices]\n",
    "\n",
    "frost_count = 0\n",
    "for item in y_val_balanced:\n",
    "    frost_count += item\n",
    "\n",
    "print(f\"{frost_count} ({100*(frost_count / len(y_val_balanced))}%) are frost out of {len(y_val_balanced)} in the validation set\")\n"
   ]
  },
  {
   "cell_type": "code",
   "execution_count": 13,
   "id": "840c93d0",
   "metadata": {},
   "outputs": [
    {
     "name": "stdout",
     "output_type": "stream",
     "text": [
      "5774 (72.42849974912193%) are frost out of 7972 in the test set\n"
     ]
    }
   ],
   "source": [
    "frost_count = 0\n",
    "for item in y_test:\n",
    "    frost_count += item\n",
    "\n",
    "print(f\"{frost_count} ({100*(frost_count / len(y_test))}%) are frost out of {len(y_test)} in the test set\")"
   ]
  },
  {
   "attachments": {},
   "cell_type": "markdown",
   "id": "19180d1b",
   "metadata": {},
   "source": [
    "Make sure it's formatted correctly"
   ]
  },
  {
   "cell_type": "code",
   "execution_count": 14,
   "id": "dfbbf00b",
   "metadata": {},
   "outputs": [
    {
     "name": "stdout",
     "output_type": "stream",
     "text": [
      "(7201, 299, 299, 3)\n",
      "(7201,)\n",
      "(7889, 299, 299, 3)\n",
      "(7889,)\n",
      "(7972, 299, 299, 3)\n",
      "(7972,)\n"
     ]
    }
   ],
   "source": [
    "print(X_train.shape)\n",
    "print(y_train.shape)\n",
    "print(X_val.shape)\n",
    "print(y_val.shape)\n",
    "print(X_test.shape)\n",
    "print(y_test.shape)"
   ]
  },
  {
   "attachments": {},
   "cell_type": "markdown",
   "id": "5b92d772",
   "metadata": {},
   "source": [
    "## Import Tensorflow Packages"
   ]
  },
  {
   "cell_type": "code",
   "execution_count": 15,
   "id": "69019e42",
   "metadata": {},
   "outputs": [
    {
     "name": "stderr",
     "output_type": "stream",
     "text": [
      "2023-08-03 14:59:47.725384: I tensorflow/core/platform/cpu_feature_guard.cc:182] This TensorFlow binary is optimized to use available CPU instructions in performance-critical operations.\n",
      "To enable the following instructions: AVX2 FMA, in other operations, rebuild TensorFlow with the appropriate compiler flags.\n",
      "2023-08-03 14:59:49.044887: W tensorflow/compiler/tf2tensorrt/utils/py_utils.cc:38] TF-TRT Warning: Could not find TensorRT\n",
      "14:59:50 | INFO  | utils           | Note: detected 80 virtual cores but NumExpr set to maximum of 64, check \"NUMEXPR_MAX_THREADS\" environment variable.\n",
      "14:59:50 | INFO  | utils           | Note: NumExpr detected 80 cores but \"NUMEXPR_MAX_THREADS\" not set, so enforcing safe limit of 8.\n",
      "14:59:50 | INFO  | utils           | NumExpr defaulting to 8 threads.\n"
     ]
    }
   ],
   "source": [
    "from tensorflow.keras.models import Sequential\n",
    "from tensorflow.keras.layers import Conv2D, MaxPooling2D, Dropout, Flatten, Dense, BatchNormalization\n",
    "from tensorflow.keras.preprocessing.image import ImageDataGenerator\n",
    "from tensorflow.keras.applications.inception_v3 import InceptionV3\n",
    "from tensorflow.keras.layers import Dense, GlobalAveragePooling2D\n",
    "from tensorflow.keras.models import Model\n",
    "from tensorflow.keras.optimizers import Adam\n",
    "from tensorflow.keras.callbacks import EarlyStopping, ModelCheckpoint\n"
   ]
  },
  {
   "attachments": {},
   "cell_type": "markdown",
   "id": "f9f85aca",
   "metadata": {},
   "source": [
    "## Weigh classes appropriately"
   ]
  },
  {
   "cell_type": "code",
   "execution_count": 16,
   "id": "418c5b46",
   "metadata": {},
   "outputs": [
    {
     "name": "stdout",
     "output_type": "stream",
     "text": [
      "{0: 1.0555555555555556, 1: 0.95}\n"
     ]
    }
   ],
   "source": [
    "from sklearn.utils.class_weight import compute_class_weight\n",
    "import numpy as np\n",
    "\n",
    "unique_classes = np.unique(y_train)\n",
    "weights = compute_class_weight(class_weight='balanced', classes=unique_classes, y=y_train)\n",
    "class_weights = dict(zip(unique_classes, weights))\n",
    "print(class_weights)"
   ]
  },
  {
   "attachments": {},
   "cell_type": "markdown",
   "id": "eb519b84",
   "metadata": {},
   "source": [
    "## Import Topless InceptionV3"
   ]
  },
  {
   "cell_type": "code",
   "execution_count": 17,
   "id": "6d61b473",
   "metadata": {},
   "outputs": [
    {
     "name": "stderr",
     "output_type": "stream",
     "text": [
      "2023-08-03 14:59:52.718192: I tensorflow/core/common_runtime/gpu/gpu_device.cc:1635] Created device /job:localhost/replica:0/task:0/device:GPU:0 with 14585 MB memory:  -> device: 0, name: Tesla V100-SXM2-16GB, pci bus id: 0000:89:00.0, compute capability: 7.0\n"
     ]
    }
   ],
   "source": [
    "base_model = InceptionV3(weights='imagenet', include_top=False)\n",
    "base_model.trainable = False"
   ]
  },
  {
   "attachments": {},
   "cell_type": "markdown",
   "id": "faaf437f",
   "metadata": {},
   "source": [
    "## Add additional layers (augmentation layer, preprocessing layer, inceptionV3, final trainable layer)\n",
    "Define data augmentation layers"
   ]
  },
  {
   "cell_type": "code",
   "execution_count": 35,
   "id": "a85a6eb5",
   "metadata": {},
   "outputs": [],
   "source": [
    "import tensorflow as tf\n",
    "\n",
    "# Define data augmentation layers\n",
    "data_augmentation = tf.keras.Sequential([\n",
    "    tf.keras.layers.RandomFlip(\"horizontal\"),\n",
    "    tf.keras.layers.RandomWidth(0.2),\n",
    "    tf.keras.layers.RandomHeight(0.2),\n",
    "    tf.keras.layers.RandomRotation(0.2),\n",
    "    tf.keras.layers.RandomZoom((0, -0.8)),\n",
    "    tf.keras.layers.RandomBrightness((-0.1, 0.2)), # Adjust as needed\n",
    "    tf.keras.layers.RandomContrast(0.5),\n",
    "    tf.keras.layers.Resizing(299, 299) # Assuming this is the target size for your model\n",
    "])"
   ]
  },
  {
   "attachments": {},
   "cell_type": "markdown",
   "id": "10757889",
   "metadata": {},
   "source": [
    "Create the model"
   ]
  },
  {
   "cell_type": "code",
   "execution_count": 36,
   "id": "5aede76b",
   "metadata": {},
   "outputs": [],
   "source": [
    "# Create a new input layer to accept the images\n",
    "input_layer = tf.keras.Input(shape=(299, 299, 3))\n",
    "\n",
    "# Apply data augmentation to the inputs\n",
    "x = data_augmentation(input_layer)\n",
    "\n",
    "# Apply preprocessing using imagenet's zscore\n",
    "x = tf.keras.applications.inception_v3.preprocess_input(x)\n",
    "\n",
    "# Pass the processed inputs through the base model\n",
    "x = base_model(x)\n",
    "\n",
    "# Continue with the rest of your architecture\n",
    "x = GlobalAveragePooling2D()(x)\n",
    "\n",
    "x = Dense(4096, activation='relu')(x) \n",
    "# x = Dropout(0.2)(x)\n",
    "\n",
    "# Removing the sigmoid activation to return logits\n",
    "predictions = Dense(1)(x)\n",
    "\n",
    "# Define the new model\n",
    "model = Model(inputs=input_layer, outputs=predictions)\n",
    "\n",
    "opt = Adam(learning_rate=0.001)\n",
    "\n",
    "# Using binary cross-entropy loss with from_logits=True\n",
    "model.compile(optimizer=opt, loss=tf.keras.losses.BinaryCrossentropy(from_logits=True), metrics=['accuracy'])\n"
   ]
  },
  {
   "attachments": {},
   "cell_type": "markdown",
   "id": "46eb1d9d",
   "metadata": {},
   "source": [
    "Define batch size and number of epochs"
   ]
  },
  {
   "cell_type": "code",
   "execution_count": 37,
   "id": "3d642278",
   "metadata": {},
   "outputs": [],
   "source": [
    "batch_size = 128\n",
    "epochs = 50"
   ]
  },
  {
   "attachments": {},
   "cell_type": "markdown",
   "id": "dfe8c043",
   "metadata": {},
   "source": [
    "Create Tensorflow Datasets. Do not run this cell more than once without restarting the kernel."
   ]
  },
  {
   "cell_type": "code",
   "execution_count": 38,
   "id": "a07fc98a",
   "metadata": {},
   "outputs": [],
   "source": [
    "train_pre = tf.data.Dataset.from_tensor_slices((X_train, y_train))\n",
    "train_pre = train_pre.shuffle(buffer_size=len(X_train))\n",
    "\n",
    "val_pre = tf.data.Dataset.from_tensor_slices((X_val, y_val))\n",
    "\n",
    "test_pre = tf.data.Dataset.from_tensor_slices((X_test, y_test))"
   ]
  },
  {
   "attachments": {},
   "cell_type": "markdown",
   "id": "c3570450",
   "metadata": {},
   "source": [
    "If adjusting batch size, only need to rerun this cell:"
   ]
  },
  {
   "cell_type": "code",
   "execution_count": 39,
   "id": "5e9b77b6",
   "metadata": {},
   "outputs": [],
   "source": [
    "train_dataset = train_pre.batch(batch_size).prefetch(buffer_size=tf.data.AUTOTUNE)\n",
    "val_dataset = val_pre.batch(batch_size).prefetch(buffer_size=tf.data.AUTOTUNE)\n",
    "test_dataset = test_pre.batch(batch_size).prefetch(buffer_size=tf.data.AUTOTUNE)"
   ]
  },
  {
   "attachments": {},
   "cell_type": "markdown",
   "id": "c784949f",
   "metadata": {},
   "source": [
    "## Train the model"
   ]
  },
  {
   "cell_type": "code",
   "execution_count": 40,
   "id": "2072d043",
   "metadata": {},
   "outputs": [
    {
     "name": "stdout",
     "output_type": "stream",
     "text": [
      "Epoch 1/50\n"
     ]
    },
    {
     "name": "stderr",
     "output_type": "stream",
     "text": [
      "2023-08-03 15:24:22.002139: I tensorflow/core/common_runtime/executor.cc:1197] [/device:CPU:0] (DEBUG INFO) Executor start aborting (this does not indicate an error and you can ignore this message): INVALID_ARGUMENT: You must feed a value for placeholder tensor 'Placeholder/_0' with dtype uint8 and shape [7201,299,299,3]\n",
      "\t [[{{node Placeholder/_0}}]]\n",
      "2023-08-03 15:24:22.002580: I tensorflow/core/common_runtime/executor.cc:1197] [/device:CPU:0] (DEBUG INFO) Executor start aborting (this does not indicate an error and you can ignore this message): INVALID_ARGUMENT: You must feed a value for placeholder tensor 'Placeholder/_0' with dtype uint8 and shape [7201,299,299,3]\n",
      "\t [[{{node Placeholder/_0}}]]\n",
      "2023-08-03 15:24:29.866324: W tensorflow/tsl/framework/bfc_allocator.cc:296] Allocator (GPU_0_bfc) ran out of memory trying to allocate 2.98GiB with freed_by_count=0. The caller indicates that this is not a failure, but this may mean that there could be performance gains if more memory were available.\n",
      "2023-08-03 15:24:29.917910: W tensorflow/tsl/framework/bfc_allocator.cc:296] Allocator (GPU_0_bfc) ran out of memory trying to allocate 2.54GiB with freed_by_count=0. The caller indicates that this is not a failure, but this may mean that there could be performance gains if more memory were available.\n",
      "2023-08-03 15:24:29.917950: W tensorflow/tsl/framework/bfc_allocator.cc:296] Allocator (GPU_0_bfc) ran out of memory trying to allocate 2.54GiB with freed_by_count=0. The caller indicates that this is not a failure, but this may mean that there could be performance gains if more memory were available.\n",
      "2023-08-03 15:24:29.952196: W tensorflow/tsl/framework/bfc_allocator.cc:296] Allocator (GPU_0_bfc) ran out of memory trying to allocate 2.98GiB with freed_by_count=0. The caller indicates that this is not a failure, but this may mean that there could be performance gains if more memory were available.\n",
      "2023-08-03 15:24:30.017665: W tensorflow/tsl/framework/bfc_allocator.cc:296] Allocator (GPU_0_bfc) ran out of memory trying to allocate 2.27GiB with freed_by_count=0. The caller indicates that this is not a failure, but this may mean that there could be performance gains if more memory were available.\n",
      "2023-08-03 15:24:30.104602: W tensorflow/tsl/framework/bfc_allocator.cc:296] Allocator (GPU_0_bfc) ran out of memory trying to allocate 2.98GiB with freed_by_count=0. The caller indicates that this is not a failure, but this may mean that there could be performance gains if more memory were available.\n",
      "2023-08-03 15:24:30.175252: W tensorflow/tsl/framework/bfc_allocator.cc:296] Allocator (GPU_0_bfc) ran out of memory trying to allocate 2.98GiB with freed_by_count=0. The caller indicates that this is not a failure, but this may mean that there could be performance gains if more memory were available.\n",
      "2023-08-03 15:24:30.175309: W tensorflow/tsl/framework/bfc_allocator.cc:296] Allocator (GPU_0_bfc) ran out of memory trying to allocate 4.05GiB with freed_by_count=0. The caller indicates that this is not a failure, but this may mean that there could be performance gains if more memory were available.\n",
      "2023-08-03 15:24:30.175364: W tensorflow/tsl/framework/bfc_allocator.cc:296] Allocator (GPU_0_bfc) ran out of memory trying to allocate 4.05GiB with freed_by_count=0. The caller indicates that this is not a failure, but this may mean that there could be performance gains if more memory were available.\n",
      "2023-08-03 15:24:30.497032: W tensorflow/tsl/framework/bfc_allocator.cc:296] Allocator (GPU_0_bfc) ran out of memory trying to allocate 3.19GiB with freed_by_count=0. The caller indicates that this is not a failure, but this may mean that there could be performance gains if more memory were available.\n"
     ]
    },
    {
     "name": "stdout",
     "output_type": "stream",
     "text": [
      "57/57 [==============================] - ETA: 0s - loss: 0.3338 - accuracy: 0.8804"
     ]
    },
    {
     "name": "stderr",
     "output_type": "stream",
     "text": [
      "2023-08-03 15:24:42.734815: I tensorflow/core/common_runtime/executor.cc:1197] [/device:CPU:0] (DEBUG INFO) Executor start aborting (this does not indicate an error and you can ignore this message): INVALID_ARGUMENT: You must feed a value for placeholder tensor 'Placeholder/_1' with dtype int64 and shape [7889]\n",
      "\t [[{{node Placeholder/_1}}]]\n"
     ]
    },
    {
     "name": "stdout",
     "output_type": "stream",
     "text": [
      "57/57 [==============================] - 32s 385ms/step - loss: 0.3338 - accuracy: 0.8804 - val_loss: 0.8827 - val_accuracy: 0.7493\n",
      "Epoch 2/50\n",
      "57/57 [==============================] - 18s 286ms/step - loss: 0.1302 - accuracy: 0.9464 - val_loss: 0.6925 - val_accuracy: 0.7986\n",
      "Epoch 3/50\n",
      "57/57 [==============================] - 18s 286ms/step - loss: 0.1147 - accuracy: 0.9526 - val_loss: 0.7344 - val_accuracy: 0.7940\n",
      "Epoch 4/50\n",
      "57/57 [==============================] - 18s 286ms/step - loss: 0.0843 - accuracy: 0.9646 - val_loss: 1.1797 - val_accuracy: 0.7244\n",
      "Epoch 5/50\n",
      "57/57 [==============================] - 17s 287ms/step - loss: 0.0850 - accuracy: 0.9660 - val_loss: 1.8418 - val_accuracy: 0.6041\n",
      "Epoch 6/50\n",
      "57/57 [==============================] - 17s 287ms/step - loss: 0.0794 - accuracy: 0.9676 - val_loss: 1.3838 - val_accuracy: 0.7076\n",
      "Epoch 7/50\n",
      "57/57 [==============================] - 17s 286ms/step - loss: 0.0681 - accuracy: 0.9715 - val_loss: 0.8038 - val_accuracy: 0.8213\n",
      "Epoch 8/50\n",
      "57/57 [==============================] - 18s 287ms/step - loss: 0.0724 - accuracy: 0.9701 - val_loss: 1.9230 - val_accuracy: 0.6390\n",
      "Epoch 9/50\n",
      "57/57 [==============================] - 18s 287ms/step - loss: 0.0620 - accuracy: 0.9749 - val_loss: 1.6865 - val_accuracy: 0.6899\n",
      "Epoch 10/50\n",
      "57/57 [==============================] - 18s 287ms/step - loss: 0.0657 - accuracy: 0.9736 - val_loss: 1.8691 - val_accuracy: 0.6480\n",
      "Epoch 11/50\n",
      "57/57 [==============================] - 18s 287ms/step - loss: 0.0551 - accuracy: 0.9790 - val_loss: 1.1045 - val_accuracy: 0.7755\n",
      "Epoch 12/50\n",
      "57/57 [==============================] - 18s 288ms/step - loss: 0.0641 - accuracy: 0.9739 - val_loss: 1.7202 - val_accuracy: 0.6870\n",
      "Epoch 13/50\n",
      "57/57 [==============================] - 18s 288ms/step - loss: 0.0507 - accuracy: 0.9814 - val_loss: 1.5088 - val_accuracy: 0.7381\n",
      "Epoch 14/50\n",
      "57/57 [==============================] - 18s 287ms/step - loss: 0.0489 - accuracy: 0.9804 - val_loss: 2.1251 - val_accuracy: 0.6591\n",
      "Epoch 15/50\n",
      "51/57 [=========================>....] - ETA: 0s - loss: 0.0571 - accuracy: 0.9770"
     ]
    },
    {
     "ename": "KeyboardInterrupt",
     "evalue": "",
     "output_type": "error",
     "traceback": [
      "\u001b[0;31m---------------------------------------------------------------------------\u001b[0m",
      "\u001b[0;31mKeyboardInterrupt\u001b[0m                         Traceback (most recent call last)",
      "Cell \u001b[0;32mIn[40], line 1\u001b[0m\n\u001b[0;32m----> 1\u001b[0m history \u001b[39m=\u001b[39m model\u001b[39m.\u001b[39mfit(\n\u001b[1;32m      2\u001b[0m     train_dataset,\n\u001b[1;32m      3\u001b[0m     epochs\u001b[39m=\u001b[39mepochs,\n\u001b[1;32m      4\u001b[0m     validation_data\u001b[39m=\u001b[39mval_dataset,\n\u001b[1;32m      5\u001b[0m     class_weight\u001b[39m=\u001b[39mclass_weights)\n",
      "File \u001b[0;32m~/miniconda3/envs/frostenv/lib/python3.11/site-packages/keras/utils/traceback_utils.py:65\u001b[0m, in \u001b[0;36mfilter_traceback.<locals>.error_handler\u001b[0;34m(*args, **kwargs)\u001b[0m\n\u001b[1;32m     63\u001b[0m filtered_tb \u001b[39m=\u001b[39m \u001b[39mNone\u001b[39;00m\n\u001b[1;32m     64\u001b[0m \u001b[39mtry\u001b[39;00m:\n\u001b[0;32m---> 65\u001b[0m     \u001b[39mreturn\u001b[39;00m fn(\u001b[39m*\u001b[39margs, \u001b[39m*\u001b[39m\u001b[39m*\u001b[39mkwargs)\n\u001b[1;32m     66\u001b[0m \u001b[39mexcept\u001b[39;00m \u001b[39mException\u001b[39;00m \u001b[39mas\u001b[39;00m e:\n\u001b[1;32m     67\u001b[0m     filtered_tb \u001b[39m=\u001b[39m _process_traceback_frames(e\u001b[39m.\u001b[39m__traceback__)\n",
      "File \u001b[0;32m~/miniconda3/envs/frostenv/lib/python3.11/site-packages/keras/engine/training.py:1685\u001b[0m, in \u001b[0;36mModel.fit\u001b[0;34m(self, x, y, batch_size, epochs, verbose, callbacks, validation_split, validation_data, shuffle, class_weight, sample_weight, initial_epoch, steps_per_epoch, validation_steps, validation_batch_size, validation_freq, max_queue_size, workers, use_multiprocessing)\u001b[0m\n\u001b[1;32m   1677\u001b[0m \u001b[39mwith\u001b[39;00m tf\u001b[39m.\u001b[39mprofiler\u001b[39m.\u001b[39mexperimental\u001b[39m.\u001b[39mTrace(\n\u001b[1;32m   1678\u001b[0m     \u001b[39m\"\u001b[39m\u001b[39mtrain\u001b[39m\u001b[39m\"\u001b[39m,\n\u001b[1;32m   1679\u001b[0m     epoch_num\u001b[39m=\u001b[39mepoch,\n\u001b[0;32m   (...)\u001b[0m\n\u001b[1;32m   1682\u001b[0m     _r\u001b[39m=\u001b[39m\u001b[39m1\u001b[39m,\n\u001b[1;32m   1683\u001b[0m ):\n\u001b[1;32m   1684\u001b[0m     callbacks\u001b[39m.\u001b[39mon_train_batch_begin(step)\n\u001b[0;32m-> 1685\u001b[0m     tmp_logs \u001b[39m=\u001b[39m \u001b[39mself\u001b[39m\u001b[39m.\u001b[39mtrain_function(iterator)\n\u001b[1;32m   1686\u001b[0m     \u001b[39mif\u001b[39;00m data_handler\u001b[39m.\u001b[39mshould_sync:\n\u001b[1;32m   1687\u001b[0m         context\u001b[39m.\u001b[39masync_wait()\n",
      "File \u001b[0;32m~/miniconda3/envs/frostenv/lib/python3.11/site-packages/tensorflow/python/util/traceback_utils.py:150\u001b[0m, in \u001b[0;36mfilter_traceback.<locals>.error_handler\u001b[0;34m(*args, **kwargs)\u001b[0m\n\u001b[1;32m    148\u001b[0m filtered_tb \u001b[39m=\u001b[39m \u001b[39mNone\u001b[39;00m\n\u001b[1;32m    149\u001b[0m \u001b[39mtry\u001b[39;00m:\n\u001b[0;32m--> 150\u001b[0m   \u001b[39mreturn\u001b[39;00m fn(\u001b[39m*\u001b[39margs, \u001b[39m*\u001b[39m\u001b[39m*\u001b[39mkwargs)\n\u001b[1;32m    151\u001b[0m \u001b[39mexcept\u001b[39;00m \u001b[39mException\u001b[39;00m \u001b[39mas\u001b[39;00m e:\n\u001b[1;32m    152\u001b[0m   filtered_tb \u001b[39m=\u001b[39m _process_traceback_frames(e\u001b[39m.\u001b[39m__traceback__)\n",
      "File \u001b[0;32m~/miniconda3/envs/frostenv/lib/python3.11/site-packages/tensorflow/python/eager/polymorphic_function/polymorphic_function.py:894\u001b[0m, in \u001b[0;36mFunction.__call__\u001b[0;34m(self, *args, **kwds)\u001b[0m\n\u001b[1;32m    891\u001b[0m compiler \u001b[39m=\u001b[39m \u001b[39m\"\u001b[39m\u001b[39mxla\u001b[39m\u001b[39m\"\u001b[39m \u001b[39mif\u001b[39;00m \u001b[39mself\u001b[39m\u001b[39m.\u001b[39m_jit_compile \u001b[39melse\u001b[39;00m \u001b[39m\"\u001b[39m\u001b[39mnonXla\u001b[39m\u001b[39m\"\u001b[39m\n\u001b[1;32m    893\u001b[0m \u001b[39mwith\u001b[39;00m OptionalXlaContext(\u001b[39mself\u001b[39m\u001b[39m.\u001b[39m_jit_compile):\n\u001b[0;32m--> 894\u001b[0m   result \u001b[39m=\u001b[39m \u001b[39mself\u001b[39m\u001b[39m.\u001b[39m_call(\u001b[39m*\u001b[39margs, \u001b[39m*\u001b[39m\u001b[39m*\u001b[39mkwds)\n\u001b[1;32m    896\u001b[0m new_tracing_count \u001b[39m=\u001b[39m \u001b[39mself\u001b[39m\u001b[39m.\u001b[39mexperimental_get_tracing_count()\n\u001b[1;32m    897\u001b[0m without_tracing \u001b[39m=\u001b[39m (tracing_count \u001b[39m==\u001b[39m new_tracing_count)\n",
      "File \u001b[0;32m~/miniconda3/envs/frostenv/lib/python3.11/site-packages/tensorflow/python/eager/polymorphic_function/polymorphic_function.py:926\u001b[0m, in \u001b[0;36mFunction._call\u001b[0;34m(self, *args, **kwds)\u001b[0m\n\u001b[1;32m    923\u001b[0m   \u001b[39mself\u001b[39m\u001b[39m.\u001b[39m_lock\u001b[39m.\u001b[39mrelease()\n\u001b[1;32m    924\u001b[0m   \u001b[39m# In this case we have created variables on the first call, so we run the\u001b[39;00m\n\u001b[1;32m    925\u001b[0m   \u001b[39m# defunned version which is guaranteed to never create variables.\u001b[39;00m\n\u001b[0;32m--> 926\u001b[0m   \u001b[39mreturn\u001b[39;00m \u001b[39mself\u001b[39m\u001b[39m.\u001b[39m_no_variable_creation_fn(\u001b[39m*\u001b[39margs, \u001b[39m*\u001b[39m\u001b[39m*\u001b[39mkwds)  \u001b[39m# pylint: disable=not-callable\u001b[39;00m\n\u001b[1;32m    927\u001b[0m \u001b[39melif\u001b[39;00m \u001b[39mself\u001b[39m\u001b[39m.\u001b[39m_variable_creation_fn \u001b[39mis\u001b[39;00m \u001b[39mnot\u001b[39;00m \u001b[39mNone\u001b[39;00m:\n\u001b[1;32m    928\u001b[0m   \u001b[39m# Release the lock early so that multiple threads can perform the call\u001b[39;00m\n\u001b[1;32m    929\u001b[0m   \u001b[39m# in parallel.\u001b[39;00m\n\u001b[1;32m    930\u001b[0m   \u001b[39mself\u001b[39m\u001b[39m.\u001b[39m_lock\u001b[39m.\u001b[39mrelease()\n",
      "File \u001b[0;32m~/miniconda3/envs/frostenv/lib/python3.11/site-packages/tensorflow/python/eager/polymorphic_function/tracing_compiler.py:143\u001b[0m, in \u001b[0;36mTracingCompiler.__call__\u001b[0;34m(self, *args, **kwargs)\u001b[0m\n\u001b[1;32m    140\u001b[0m \u001b[39mwith\u001b[39;00m \u001b[39mself\u001b[39m\u001b[39m.\u001b[39m_lock:\n\u001b[1;32m    141\u001b[0m   (concrete_function,\n\u001b[1;32m    142\u001b[0m    filtered_flat_args) \u001b[39m=\u001b[39m \u001b[39mself\u001b[39m\u001b[39m.\u001b[39m_maybe_define_function(args, kwargs)\n\u001b[0;32m--> 143\u001b[0m \u001b[39mreturn\u001b[39;00m concrete_function\u001b[39m.\u001b[39m_call_flat(\n\u001b[1;32m    144\u001b[0m     filtered_flat_args, captured_inputs\u001b[39m=\u001b[39mconcrete_function\u001b[39m.\u001b[39mcaptured_inputs)\n",
      "File \u001b[0;32m~/miniconda3/envs/frostenv/lib/python3.11/site-packages/tensorflow/python/eager/polymorphic_function/monomorphic_function.py:1757\u001b[0m, in \u001b[0;36mConcreteFunction._call_flat\u001b[0;34m(self, args, captured_inputs, cancellation_manager)\u001b[0m\n\u001b[1;32m   1753\u001b[0m possible_gradient_type \u001b[39m=\u001b[39m gradients_util\u001b[39m.\u001b[39mPossibleTapeGradientTypes(args)\n\u001b[1;32m   1754\u001b[0m \u001b[39mif\u001b[39;00m (possible_gradient_type \u001b[39m==\u001b[39m gradients_util\u001b[39m.\u001b[39mPOSSIBLE_GRADIENT_TYPES_NONE\n\u001b[1;32m   1755\u001b[0m     \u001b[39mand\u001b[39;00m executing_eagerly):\n\u001b[1;32m   1756\u001b[0m   \u001b[39m# No tape is watching; skip to running the function.\u001b[39;00m\n\u001b[0;32m-> 1757\u001b[0m   \u001b[39mreturn\u001b[39;00m \u001b[39mself\u001b[39m\u001b[39m.\u001b[39m_build_call_outputs(\u001b[39mself\u001b[39m\u001b[39m.\u001b[39m_inference_function\u001b[39m.\u001b[39mcall(\n\u001b[1;32m   1758\u001b[0m       ctx, args, cancellation_manager\u001b[39m=\u001b[39mcancellation_manager))\n\u001b[1;32m   1759\u001b[0m forward_backward \u001b[39m=\u001b[39m \u001b[39mself\u001b[39m\u001b[39m.\u001b[39m_select_forward_and_backward_functions(\n\u001b[1;32m   1760\u001b[0m     args,\n\u001b[1;32m   1761\u001b[0m     possible_gradient_type,\n\u001b[1;32m   1762\u001b[0m     executing_eagerly)\n\u001b[1;32m   1763\u001b[0m forward_function, args_with_tangents \u001b[39m=\u001b[39m forward_backward\u001b[39m.\u001b[39mforward()\n",
      "File \u001b[0;32m~/miniconda3/envs/frostenv/lib/python3.11/site-packages/tensorflow/python/eager/polymorphic_function/monomorphic_function.py:381\u001b[0m, in \u001b[0;36m_EagerDefinedFunction.call\u001b[0;34m(self, ctx, args, cancellation_manager)\u001b[0m\n\u001b[1;32m    379\u001b[0m \u001b[39mwith\u001b[39;00m _InterpolateFunctionError(\u001b[39mself\u001b[39m):\n\u001b[1;32m    380\u001b[0m   \u001b[39mif\u001b[39;00m cancellation_manager \u001b[39mis\u001b[39;00m \u001b[39mNone\u001b[39;00m:\n\u001b[0;32m--> 381\u001b[0m     outputs \u001b[39m=\u001b[39m execute\u001b[39m.\u001b[39mexecute(\n\u001b[1;32m    382\u001b[0m         \u001b[39mstr\u001b[39m(\u001b[39mself\u001b[39m\u001b[39m.\u001b[39msignature\u001b[39m.\u001b[39mname),\n\u001b[1;32m    383\u001b[0m         num_outputs\u001b[39m=\u001b[39m\u001b[39mself\u001b[39m\u001b[39m.\u001b[39m_num_outputs,\n\u001b[1;32m    384\u001b[0m         inputs\u001b[39m=\u001b[39margs,\n\u001b[1;32m    385\u001b[0m         attrs\u001b[39m=\u001b[39mattrs,\n\u001b[1;32m    386\u001b[0m         ctx\u001b[39m=\u001b[39mctx)\n\u001b[1;32m    387\u001b[0m   \u001b[39melse\u001b[39;00m:\n\u001b[1;32m    388\u001b[0m     outputs \u001b[39m=\u001b[39m execute\u001b[39m.\u001b[39mexecute_with_cancellation(\n\u001b[1;32m    389\u001b[0m         \u001b[39mstr\u001b[39m(\u001b[39mself\u001b[39m\u001b[39m.\u001b[39msignature\u001b[39m.\u001b[39mname),\n\u001b[1;32m    390\u001b[0m         num_outputs\u001b[39m=\u001b[39m\u001b[39mself\u001b[39m\u001b[39m.\u001b[39m_num_outputs,\n\u001b[0;32m   (...)\u001b[0m\n\u001b[1;32m    393\u001b[0m         ctx\u001b[39m=\u001b[39mctx,\n\u001b[1;32m    394\u001b[0m         cancellation_manager\u001b[39m=\u001b[39mcancellation_manager)\n",
      "File \u001b[0;32m~/miniconda3/envs/frostenv/lib/python3.11/site-packages/tensorflow/python/eager/execute.py:52\u001b[0m, in \u001b[0;36mquick_execute\u001b[0;34m(op_name, num_outputs, inputs, attrs, ctx, name)\u001b[0m\n\u001b[1;32m     50\u001b[0m \u001b[39mtry\u001b[39;00m:\n\u001b[1;32m     51\u001b[0m   ctx\u001b[39m.\u001b[39mensure_initialized()\n\u001b[0;32m---> 52\u001b[0m   tensors \u001b[39m=\u001b[39m pywrap_tfe\u001b[39m.\u001b[39mTFE_Py_Execute(ctx\u001b[39m.\u001b[39m_handle, device_name, op_name,\n\u001b[1;32m     53\u001b[0m                                       inputs, attrs, num_outputs)\n\u001b[1;32m     54\u001b[0m \u001b[39mexcept\u001b[39;00m core\u001b[39m.\u001b[39m_NotOkStatusException \u001b[39mas\u001b[39;00m e:\n\u001b[1;32m     55\u001b[0m   \u001b[39mif\u001b[39;00m name \u001b[39mis\u001b[39;00m \u001b[39mnot\u001b[39;00m \u001b[39mNone\u001b[39;00m:\n",
      "\u001b[0;31mKeyboardInterrupt\u001b[0m: "
     ]
    }
   ],
   "source": [
    "history = model.fit(\n",
    "    train_dataset,\n",
    "    epochs=epochs,\n",
    "    validation_data=val_dataset,\n",
    "    class_weight=class_weights)"
   ]
  },
  {
   "attachments": {},
   "cell_type": "markdown",
   "id": "4709453b",
   "metadata": {},
   "source": [
    "## Save the weights as a .h5 file\n",
    "Also save the history of the model as a .csv file"
   ]
  },
  {
   "cell_type": "code",
   "execution_count": null,
   "id": "51d323d1",
   "metadata": {},
   "outputs": [],
   "source": [
    "# import pandas as pd\n",
    "# model.save('inception_tuned.h5')\n",
    "# # Convert the history.history dict to a pandas DataFrame\n",
    "# hist_df = pd.DataFrame(history.history)\n",
    "\n",
    "# # Save to csv\n",
    "# hist_csv_file = 'inception_tuned.csv'\n",
    "# with open(hist_csv_file, mode='w') as f:\n",
    "#     hist_df.to_csv(f)"
   ]
  },
  {
   "attachments": {},
   "cell_type": "markdown",
   "id": "af314ccb",
   "metadata": {},
   "source": [
    "Code to load in the model if needed"
   ]
  },
  {
   "cell_type": "code",
   "execution_count": null,
   "id": "91b1cc7f",
   "metadata": {},
   "outputs": [],
   "source": [
    "# import pandas as pd\n",
    "# from tensorflow.keras.models import load_model\n",
    "\n",
    "# # Register the custom metric function\n",
    "# my_model = load_model('inception_tuned.h5')\n",
    "\n",
    "# my_model_history = pd.read_csv(\n",
    "#     'inception_tuned.csv')"
   ]
  },
  {
   "attachments": {},
   "cell_type": "markdown",
   "id": "2b966c58",
   "metadata": {},
   "source": [
    "## Evaluate the model\n",
    "Using our custom metrics. Load in the file."
   ]
  },
  {
   "cell_type": "code",
   "execution_count": null,
   "id": "e6ed7d9b",
   "metadata": {},
   "outputs": [
    {
     "name": "stderr",
     "output_type": "stream",
     "text": [
      "2023-08-01 23:00:02.351729: I tensorflow/core/common_runtime/executor.cc:1197] [/device:CPU:0] (DEBUG INFO) Executor start aborting (this does not indicate an error and you can ignore this message): INVALID_ARGUMENT: You must feed a value for placeholder tensor 'Placeholder/_0' with dtype int32\n",
      "\t [[{{node Placeholder/_0}}]]\n"
     ]
    },
    {
     "name": "stdout",
     "output_type": "stream",
     "text": [
      "7972/7972 [==============================] - 89s 11ms/step\n",
      "Confusion Matrix\n",
      "\n",
      "[[1611  587]\n",
      " [ 600 5174]]\n",
      "\n",
      "Test Accuracy: 0.8511038635223281\n",
      "True Negatives: 1611\n",
      "False Positives: 587\n",
      "False Negatives: 600\n",
      "True Positives: 5174\n"
     ]
    }
   ],
   "source": [
    "from sklearn.metrics import confusion_matrix\n",
    "\n",
    "# Predict the values from the test dataset\n",
    "y_pred = model.predict(test_dataset)\n",
    "\n",
    "# Convert predictions to binary class labels\n",
    "y_pred_classes = (y_pred > 0.5).astype(int)\n",
    "\n",
    "# Convert y_test to a numpy array of integers\n",
    "y_true = np.array(y_test).astype(int)\n",
    "\n",
    "# Compute the confusion matrix\n",
    "confusion_mtx = confusion_matrix(y_true, y_pred_classes)\n",
    "\n",
    "print('Confusion Matrix\\n')\n",
    "print(confusion_mtx)\n",
    "\n",
    "# Calculate the accuracy on the test set\n",
    "accuracy = np.sum(np.diag(confusion_mtx)) / np.sum(confusion_mtx)\n",
    "print(f\"\\nTest Accuracy: {accuracy}\")\n",
    "\n",
    "print(f'True Negatives: {confusion_mtx[0][0]}')\n",
    "print(f'False Positives: {confusion_mtx[0][1]}')\n",
    "print(f'False Negatives: {confusion_mtx[1][0]}')\n",
    "print(f'True Positives: {confusion_mtx[1][1]}')"
   ]
  },
  {
   "cell_type": "code",
   "execution_count": null,
   "id": "ed65b7fd",
   "metadata": {},
   "outputs": [
    {
     "data": {
      "image/png": "[encoded data removed]",
      "text/plain": [
       "<Figure size 640x480 with 1 Axes>"
      ]
     },
     "metadata": {},
     "output_type": "display_data"
    }
   ],
   "source": [
    "import matplotlib.pyplot as plt\n",
    "\n",
    "# Get training and validation accuracy histories\n",
    "training_accuracy = history.history['accuracy']\n",
    "validation_accuracy = history.history['val_accuracy']\n",
    "\n",
    "# Create count of the number of epochs\n",
    "epoch_count = range(1, len(training_accuracy) + 1)\n",
    "\n",
    "# Visualize accuracy history\n",
    "plt.plot(epoch_count, training_accuracy, 'r--')\n",
    "plt.plot(epoch_count, validation_accuracy, 'b-')\n",
    "plt.legend(['Training Accuracy', 'Validation Accuracy'])\n",
    "plt.xlabel('Epoch')\n",
    "plt.ylabel('Accuracy')\n",
    "plt.show()"
   ]
  }
 ],
 "metadata": {
  "kernelspec": {
   "display_name": "Python 3",
   "language": "python",
   "name": "python3"
  },
  "language_info": {
   "codemirror_mode": {
    "name": "ipython",
    "version": 3
   },
   "file_extension": ".py",
   "mimetype": "text/x-python",
   "name": "python",
   "nbconvert_exporter": "python",
   "pygments_lexer": "ipython3",
   "version": "3.11.4"
  }
 },
 "nbformat": 4,
 "nbformat_minor": 5
}
