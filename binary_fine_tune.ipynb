{
 "cells": [
  {
   "cell_type": "code",
   "execution_count": 1,
   "id": "d691dba5",
   "metadata": {},
   "outputs": [],
   "source": [
    "import os\n",
    "os.environ[\"CUDA_VISIBLE_DEVICES\"]=\"6\""
   ]
  },
  {
   "attachments": {},
   "cell_type": "markdown",
   "id": "4e3ba116",
   "metadata": {},
   "source": [
    "# Martian Frost HiRISE Image Classification\n",
    "* Data confidence weighting\n",
    "* Predicts frost_context probabilities\n",
    "\n",
    "Outside of built-in python 3 libraries, this code uses numpy, skimage, tqdm, PIL, matplotlib, and tensorflow."
   ]
  },
  {
   "cell_type": "code",
   "execution_count": 2,
   "id": "6928e0e4",
   "metadata": {},
   "outputs": [],
   "source": [
    "import os\n",
    "import os.path as op\n",
    "import json\n",
    "from pathlib import Path\n",
    "import shutil\n",
    "import logging\n",
    "\n",
    "import numpy as np\n",
    "from tqdm import tqdm\n",
    "from skimage import io\n",
    "\n",
    "# Logging configuration\n",
    "logging.basicConfig(level=logging.INFO,\n",
    "                    datefmt='%H:%M:%S',\n",
    "                    format='%(asctime)s | %(levelname)-5s | %(module)-15s | %(message)s')\n",
    "\n",
    "IMAGE_SIZE = (299, 299)  # All images contained in this dataset are 299x299 (originally, to match Inception v3 input size)\n",
    "SEED = 17\n",
    "\n",
    "# Head directory containing all image subframes\n",
    "data_head_dir = Path('./data')\n",
    "\n",
    "# Find all subframe directories\n",
    "subdirs = [Path(subdir.stem) for subdir in data_head_dir.iterdir() if subdir.is_dir()]\n",
    "src_image_ids = ['_'.join(a_path.name.split('_')[:3]) for a_path in subdirs]"
   ]
  },
  {
   "attachments": {},
   "cell_type": "markdown",
   "id": "624825ed",
   "metadata": {},
   "source": [
    "# Suggested Data Split\n",
    "\n",
    "Use the suggested train/val/test split to avoid data leakage across each data subset from a geospatial perspective."
   ]
  },
  {
   "cell_type": "code",
   "execution_count": 3,
   "id": "5356902f",
   "metadata": {},
   "outputs": [],
   "source": [
    "# Load train/val/test subframe IDs\n",
    "def load_text_ids(file_path):\n",
    "    \"\"\"Simple helper to load all lines from a text file\"\"\"\n",
    "    with open(file_path, 'r') as f:\n",
    "        lines = [line.strip() for line in f.readlines()]\n",
    "    return lines\n",
    "\n",
    "# Load the subframe names for the three data subsets\n",
    "train_ids = load_text_ids('./splits/train_source_images.txt')\n",
    "validate_ids = load_text_ids('./splits/val_source_images.txt')\n",
    "test_ids = load_text_ids('./splits/test_source_images.txt')"
   ]
  },
  {
   "attachments": {},
   "cell_type": "markdown",
   "id": "94de20dd",
   "metadata": {},
   "source": [
    "## Prepare data as numpy arrays\n",
    "\n",
    "Load the data and pair a tile with its label. Each tile is stored in a numpy array under its parent. Each tile is a data object containing the following parameters:\n",
    "* `tile`: the png image data\n",
    "* `label`: the entire json for the tile\n",
    "* `class`: the class of the tile\n",
    "* `file`: the filename of the tile\n",
    "* `data`: the json annotations\n",
    "* `defrosting`: whether the image contains defrosting marks"
   ]
  },
  {
   "cell_type": "code",
   "execution_count": 4,
   "id": "4f95ade9",
   "metadata": {},
   "outputs": [],
   "source": [
    "from skimage import io, color\n",
    "# modified this function to pair a tile with its label\n",
    "\n",
    "limit_tiles_per_img = True\n",
    "tile_limit = 100\n",
    "\n",
    "# define the cutoff hyperparameter\n",
    "cutoff = 0.5\n",
    "\n",
    "def load_images(dir_path):\n",
    "\n",
    "    tile_dir = dir_path / Path('tiles')\n",
    "    images = {'file': dir_path.stem, 'class': '', 'tiles': []}\n",
    "\n",
    "    for root, dirs, files in os.walk(tile_dir):\n",
    "        for file in files:\n",
    "            file = Path(file)\n",
    "            if file.suffix == '.png':\n",
    "                fp = os.path.join(root, file)\n",
    "                \n",
    "                # Extract the image class label from the filepath. This (and additional) info is also in the label jsons\n",
    "                image_class = Path(root).stem\n",
    "                contains_defrosting = 0\n",
    "\n",
    "                if images['class'] == '':\n",
    "                    images['class'] = image_class\n",
    "                \n",
    "                # Load the image, save it to our list\n",
    "                img = io.imread(fp)\n",
    "\n",
    "                if len(img.shape) == 2:  # check if the image is grayscale\n",
    "                    img = color.gray2rgb(img)  # convert to RGB\n",
    "\n",
    "                # locate the associated label json\n",
    "                label_fp = op.join(dir_path, 'labels', image_class, f'{file.stem}.json')\n",
    "                with open(label_fp, 'r') as f:\n",
    "                    label_json = json.load(f)\n",
    "                \n",
    "                for annotation in label_json[\"annotations\"]:\n",
    "                    for context in annotation['frost_context']:\n",
    "                        if context == \"defrosting_marks\":\n",
    "                            contains_defrosting = 1\n",
    "\n",
    "                combined_entry = {\"tile\": img,\n",
    "                                  \"data\": label_json, \n",
    "                                  \"class\": image_class,\n",
    "                                  \"defrosting\": contains_defrosting,\n",
    "                                  \"file\": file.stem}\n",
    "                \n",
    "                images['tiles'].append(combined_entry)\n",
    "    if limit_tiles_per_img:\n",
    "        img_tiles = images['tiles']\n",
    "        lim = min(tile_limit, len(img_tiles))\n",
    "        tiles_lim = np.random.choice(img_tiles, lim, replace=False)\n",
    "        images['tiles'] = tiles_lim\n",
    "    return images"
   ]
  },
  {
   "attachments": {},
   "cell_type": "markdown",
   "id": "fceb748e",
   "metadata": {},
   "source": [
    "## Split the data into train/val/test\n",
    "Make use of load_images above and bin the data properly. It will bin according to the txt files imported above."
   ]
  },
  {
   "cell_type": "code",
   "execution_count": 5,
   "id": "482aab88",
   "metadata": {},
   "outputs": [
    {
     "name": "stderr",
     "output_type": "stream",
     "text": [
      "10:12:07 | INFO  | 2031110659      | Loading ML data from 214 subframes.\n",
      "Creating Dataset as Numpy array: 100%|██████████| 214/214 [02:02<00:00,  1.75it/s]\n"
     ]
    }
   ],
   "source": [
    "train_data = []\n",
    "validate_data = []\n",
    "test_data = []\n",
    "logging.info(f'Loading ML data from {len(subdirs)} subframes.')\n",
    "for subdir in tqdm(subdirs, desc='Creating Dataset as Numpy array'):\n",
    "    full_path = data_head_dir / subdir\n",
    "    for i in range(len(train_ids)):\n",
    "        if train_ids[i] in str(full_path):\n",
    "            train_data.append(load_images(full_path))\n",
    "    for j in range(len(validate_ids)):\n",
    "        if validate_ids[j] in str(full_path):\n",
    "            validate_data.append(load_images(full_path))\n",
    "    for k in range(len(test_ids)):\n",
    "        if test_ids[k] in str(full_path):\n",
    "            test_data.append(load_images(full_path))"
   ]
  },
  {
   "attachments": {},
   "cell_type": "markdown",
   "id": "579e8343",
   "metadata": {},
   "source": [
    "## Check the size of each bin\n",
    "Just to check and make sure we binned correctly!"
   ]
  },
  {
   "cell_type": "code",
   "execution_count": 6,
   "id": "0b0a93c6",
   "metadata": {},
   "outputs": [
    {
     "name": "stdout",
     "output_type": "stream",
     "text": [
      "Good to go!\n",
      "    -> Train size: 102\n",
      "    -> Validate size: 55\n",
      "    -> Test size: 57\n"
     ]
    }
   ],
   "source": [
    "if (len(train_data) + len(validate_data) + len(test_data)) != 214:\n",
    "    print(\"Error: Data not loaded and/or binned correctly\")\n",
    "else:\n",
    "    print(\"Good to go!\")\n",
    "    # print all lengths, and the amount with frost/background class\n",
    "    print(f\"    -> Train size: {len(train_data)}\")\n",
    "    print(f\"    -> Validate size: {len(validate_data)}\")\n",
    "    print(\n",
    "        f\"    -> Test size: {len(test_data)}\")\n"
   ]
  },
  {
   "attachments": {},
   "cell_type": "markdown",
   "id": "9ed30b90",
   "metadata": {},
   "source": [
    "## Print a random tile and its class\n",
    "Print a random tile and its data to make sure everything is working properly."
   ]
  },
  {
   "cell_type": "code",
   "execution_count": 7,
   "id": "eda3f8ba",
   "metadata": {},
   "outputs": [
    {
     "data": {
      "image/png": "[encoded data removed]",
      "text/plain": [
       "<Figure size 640x480 with 1 Axes>"
      ]
     },
     "metadata": {},
     "output_type": "display_data"
    }
   ],
   "source": [
    "import matplotlib.pyplot as plt\n",
    "import random\n",
    "\n",
    "def display_random_image_and_json(some_data):\n",
    "    # Pick a random image that has frost\n",
    "    idx = random.choice(range(len(some_data)))\n",
    "    tile_i = random.choice(range(len(some_data[idx]['tiles'])))\n",
    "    img_dict = some_data[idx]['tiles'][tile_i]\n",
    "\n",
    "    img = img_dict['tile']\n",
    "\n",
    "    # Plot the image\n",
    "    fig, ax = plt.subplots()\n",
    "    ax.imshow(img)\n",
    "\n",
    "    # Set the title\n",
    "    ax.set_title(\n",
    "        f\"Filename: {img_dict['file']}\\n Class: {img_dict['class']}, Defrosting: {img_dict['defrosting']}\")\n",
    "\n",
    "    plt.show()\n",
    "\n",
    "\n",
    "display_random_image_and_json(train_data)\n"
   ]
  },
  {
   "attachments": {},
   "cell_type": "markdown",
   "id": "3e234192",
   "metadata": {},
   "source": [
    "## Preprocess data"
   ]
  },
  {
   "attachments": {},
   "cell_type": "markdown",
   "id": "071ef5e5",
   "metadata": {},
   "source": [
    "Gather and bin the data"
   ]
  },
  {
   "cell_type": "code",
   "execution_count": 8,
   "id": "f8046a1d",
   "metadata": {},
   "outputs": [],
   "source": [
    "only_defrosting = False\n",
    "\n",
    "# Train Data\n",
    "X_train = []\n",
    "y_train = []\n",
    "for i in range(len(train_data)):\n",
    "    for j in range(len(train_data[i]['tiles'])):\n",
    "        X_train.append(train_data[i]['tiles'][j]['tile'])\n",
    "        if only_defrosting:\n",
    "            y_train.append(train_data[i]['tiles'][j]['defrosting'])\n",
    "        else:\n",
    "            y_train.append(int(train_data[i]['tiles'][j]['class'] == \"frost\"))\n",
    "\n",
    "# Validate Data\n",
    "X_val = []\n",
    "y_val = []\n",
    "for i in range(len(validate_data)):\n",
    "    for j in range(len(validate_data[i]['tiles'])):\n",
    "        X_val.append(validate_data[i]['tiles'][j]['tile'])\n",
    "        if only_defrosting:\n",
    "            y_val.append(validate_data[i]['tiles'][j]['defrosting'])\n",
    "        else:\n",
    "            y_val.append(int(validate_data[i]['tiles'][j]['class'] == \"frost\"))\n",
    "\n",
    "# Test Data\n",
    "X_test = []\n",
    "y_test = []\n",
    "for i in range(len(test_data)):\n",
    "    for j in range(len(test_data[i]['tiles'])):\n",
    "        X_test.append(test_data[i]['tiles'][j]['tile'])\n",
    "        if only_defrosting:\n",
    "            y_test.append(test_data[i]['tiles'][j]['defrosting'])\n",
    "        else:\n",
    "            y_test.append(int(test_data[i]['tiles'][j]['class'] == \"frost\"))"
   ]
  },
  {
   "attachments": {},
   "cell_type": "markdown",
   "id": "a081bbc9",
   "metadata": {},
   "source": [
    "Format the data"
   ]
  },
  {
   "cell_type": "code",
   "execution_count": 9,
   "id": "0400e3ff",
   "metadata": {},
   "outputs": [],
   "source": [
    "# Convert lists to numpy array\n",
    "X_train = np.array(X_train)\n",
    "X_val = np.array(X_val)\n",
    "X_test = np.array(X_test)\n",
    "y_train = np.array(y_train)\n",
    "y_val = np.array(y_val)\n",
    "y_test = np.array(y_test)"
   ]
  },
  {
   "cell_type": "code",
   "execution_count": 10,
   "id": "1f43f650",
   "metadata": {},
   "outputs": [
    {
     "name": "stdout",
     "output_type": "stream",
     "text": [
      "3358 (51.909104962127074%) are frost out of 6469 in the training set\n"
     ]
    }
   ],
   "source": [
    "frost_count = 0\n",
    "for item in y_train:\n",
    "    frost_count += item\n",
    "\n",
    "print(f\"{frost_count} ({100*(frost_count / len(y_train))}%) are frost out of {len(y_train)} in the training set\")"
   ]
  },
  {
   "cell_type": "code",
   "execution_count": 11,
   "id": "50a8aada",
   "metadata": {},
   "outputs": [
    {
     "name": "stdout",
     "output_type": "stream",
     "text": [
      "1192 (27.516158818097875%) are frost out of 4332 in the validation set\n",
      "1192 (50.0%) are frost out of 2384 in the validation set\n"
     ]
    }
   ],
   "source": [
    "frost_count = 0\n",
    "for item in y_val:\n",
    "    frost_count += item\n",
    "\n",
    "print(f\"{frost_count} ({100*(frost_count / len(y_val))}%) are frost out of {len(y_val)} in the validation set\")\n",
    "\n",
    "import numpy as np\n",
    "\n",
    "# get the indices of 0's and 1's\n",
    "indices_0 = np.where(y_val == 0)[0]\n",
    "indices_1 = np.where(y_val == 1)[0]\n",
    "\n",
    "# number of 0's and 1's\n",
    "num_0 = len(indices_0)\n",
    "num_1 = len(indices_1)\n",
    "\n",
    "# choose random indices of 0's equal to the size of 1's\n",
    "random_indices_0 = np.random.choice(indices_0, num_1, replace=False)\n",
    "\n",
    "# combine the random indices of 0's with indices of 1's\n",
    "combined_indices = np.concatenate((random_indices_0, indices_1))\n",
    "\n",
    "# select the balanced data\n",
    "X_val_balanced = X_val[combined_indices]\n",
    "y_val_balanced = y_val[combined_indices]\n",
    "\n",
    "frost_count = 0\n",
    "for item in y_val_balanced:\n",
    "    frost_count += item\n",
    "\n",
    "print(f\"{frost_count} ({100*(frost_count / len(y_val_balanced))}%) are frost out of {len(y_val_balanced)} in the validation set\")\n"
   ]
  },
  {
   "cell_type": "code",
   "execution_count": 12,
   "id": "840c93d0",
   "metadata": {},
   "outputs": [
    {
     "name": "stdout",
     "output_type": "stream",
     "text": [
      "2387 (58.93827160493827%) are frost out of 4050 in the test set\n",
      "[ 100  101  102 ... 4047 4048 4049]\n",
      "2387 (50.0%) are frost out of 4774 in the test set\n"
     ]
    }
   ],
   "source": [
    "frost_count = 0\n",
    "for item in y_test:\n",
    "    frost_count += item\n",
    "\n",
    "print(f\"{frost_count} ({100*(frost_count / len(y_test))}%) are frost out of {len(y_test)} in the test set\")\n",
    "\n",
    "# get the indices of 0's and 1's\n",
    "t_indices_0 = np.where(y_test == 0)[0]\n",
    "t_indices_1 = np.where(y_test == 1)[0]\n",
    "\n",
    "print(t_indices_0)\n",
    "\n",
    "# number of 0's and 1's\n",
    "t_num_0 = len(t_indices_0)\n",
    "t_num_1 = len(t_indices_1)\n",
    "\n",
    "# choose random indices of 0's equal to the size of 1's\n",
    "t_random_indices_0 = np.random.choice(t_indices_0, t_num_1)\n",
    "\n",
    "# combine the random indices of 0's with indices of 1's\n",
    "t_combined_indices = np.concatenate((t_random_indices_0, t_indices_1))\n",
    "\n",
    "# select the balanced data\n",
    "X_test_balanced = X_test[t_combined_indices]\n",
    "y_test_balanced = y_test[t_combined_indices]\n",
    "\n",
    "frost_count = 0\n",
    "for item in y_test_balanced:\n",
    "    frost_count += item\n",
    "\n",
    "print(f\"{frost_count} ({100*(frost_count / len(y_test_balanced))}%) are frost out of {len(y_test_balanced)} in the test set\")"
   ]
  },
  {
   "attachments": {},
   "cell_type": "markdown",
   "id": "19180d1b",
   "metadata": {},
   "source": [
    "Make sure it's formatted correctly"
   ]
  },
  {
   "cell_type": "code",
   "execution_count": 13,
   "id": "dfbbf00b",
   "metadata": {},
   "outputs": [
    {
     "name": "stdout",
     "output_type": "stream",
     "text": [
      "(6469, 299, 299, 3)\n",
      "(6469,)\n",
      "(4332, 299, 299, 3)\n",
      "(4332,)\n",
      "(4050, 299, 299, 3)\n",
      "(4050,)\n"
     ]
    }
   ],
   "source": [
    "print(X_train.shape)\n",
    "print(y_train.shape)\n",
    "print(X_val.shape)\n",
    "print(y_val.shape)\n",
    "print(X_test.shape)\n",
    "print(y_test.shape)"
   ]
  },
  {
   "attachments": {},
   "cell_type": "markdown",
   "id": "5b92d772",
   "metadata": {},
   "source": [
    "## Import Tensorflow Packages"
   ]
  },
  {
   "cell_type": "code",
   "execution_count": 14,
   "id": "69019e42",
   "metadata": {},
   "outputs": [
    {
     "name": "stderr",
     "output_type": "stream",
     "text": [
      "2023-07-28 10:14:20.573481: I tensorflow/core/platform/cpu_feature_guard.cc:182] This TensorFlow binary is optimized to use available CPU instructions in performance-critical operations.\n",
      "To enable the following instructions: AVX2 FMA, in other operations, rebuild TensorFlow with the appropriate compiler flags.\n",
      "2023-07-28 10:14:23.583668: W tensorflow/compiler/tf2tensorrt/utils/py_utils.cc:38] TF-TRT Warning: Could not find TensorRT\n",
      "10:14:28 | INFO  | utils           | Note: detected 80 virtual cores but NumExpr set to maximum of 64, check \"NUMEXPR_MAX_THREADS\" environment variable.\n",
      "10:14:28 | INFO  | utils           | Note: NumExpr detected 80 cores but \"NUMEXPR_MAX_THREADS\" not set, so enforcing safe limit of 8.\n",
      "10:14:28 | INFO  | utils           | NumExpr defaulting to 8 threads.\n"
     ]
    }
   ],
   "source": [
    "from tensorflow.keras.models import Sequential\n",
    "from tensorflow.keras.layers import Conv2D, MaxPooling2D, Dropout, Flatten, Dense, BatchNormalization\n",
    "from tensorflow.keras.preprocessing.image import ImageDataGenerator\n",
    "from tensorflow.keras.applications.inception_v3 import InceptionV3, preprocess_input\n",
    "from tensorflow.keras.layers import Dense, GlobalAveragePooling2D\n",
    "from tensorflow.keras.models import Model\n",
    "from tensorflow.keras.optimizers import Adam\n",
    "from tensorflow.keras.callbacks import EarlyStopping, ModelCheckpoint\n"
   ]
  },
  {
   "attachments": {},
   "cell_type": "markdown",
   "id": "f9f85aca",
   "metadata": {},
   "source": [
    "## Weigh classes appropriately"
   ]
  },
  {
   "cell_type": "code",
   "execution_count": 15,
   "id": "418c5b46",
   "metadata": {},
   "outputs": [
    {
     "name": "stdout",
     "output_type": "stream",
     "text": [
      "{0: 1.0396978463516555, 1: 0.9632221560452651}\n"
     ]
    }
   ],
   "source": [
    "from sklearn.utils.class_weight import compute_class_weight\n",
    "import numpy as np\n",
    "\n",
    "unique_classes = np.unique(y_train)\n",
    "weights = compute_class_weight(class_weight='balanced', classes=unique_classes, y=y_train)\n",
    "class_weights = dict(zip(unique_classes, weights))\n",
    "print(class_weights)"
   ]
  },
  {
   "attachments": {},
   "cell_type": "markdown",
   "id": "eb519b84",
   "metadata": {},
   "source": [
    "## Fine Tune InceptionV3"
   ]
  },
  {
   "cell_type": "code",
   "execution_count": 16,
   "id": "6d61b473",
   "metadata": {},
   "outputs": [
    {
     "name": "stderr",
     "output_type": "stream",
     "text": [
      "2023-07-28 10:16:17.932448: I tensorflow/core/common_runtime/gpu/gpu_device.cc:1635] Created device /job:localhost/replica:0/task:0/device:GPU:0 with 14585 MB memory:  -> device: 0, name: Tesla V100-SXM2-16GB, pci bus id: 0000:89:00.0, compute capability: 7.0\n"
     ]
    }
   ],
   "source": [
    "base_model = InceptionV3(weights='imagenet', include_top=False)\n",
    "for layer in base_model.layers:\n",
    "    layer.trainable = False"
   ]
  },
  {
   "attachments": {},
   "cell_type": "markdown",
   "id": "faaf437f",
   "metadata": {},
   "source": [
    "## Add additional layers"
   ]
  },
  {
   "cell_type": "code",
   "execution_count": 17,
   "id": "5aede76b",
   "metadata": {},
   "outputs": [],
   "source": [
    "x = base_model.output\n",
    "x = GlobalAveragePooling2D()(x)\n",
    "\n",
    "# Add a fully connected layer \n",
    "x = Dense(1024, activation='relu')(x)\n",
    "x = Dropout(0.5)(x)  # Dropout layer for regularization\n",
    "\n",
    "# And one final layer to output the prediction\n",
    "predictions = Dense(1, activation='sigmoid')(x)\n",
    "\n",
    "model = Model(inputs=base_model.input, outputs=predictions)"
   ]
  },
  {
   "cell_type": "code",
   "execution_count": 18,
   "id": "cf4fa353",
   "metadata": {},
   "outputs": [],
   "source": [
    "# Let's say you want a learning rate of 0.001\n",
    "opt = Adam(learning_rate=0.001)\n",
    "\n",
    "# Then compile the model\n",
    "model.compile(optimizer=opt, loss='binary_crossentropy', metrics=['accuracy'])"
   ]
  },
  {
   "cell_type": "code",
   "execution_count": 20,
   "id": "3d642278",
   "metadata": {},
   "outputs": [],
   "source": [
    "batch_size = 16\n",
    "epochs = 10"
   ]
  },
  {
   "attachments": {},
   "cell_type": "markdown",
   "id": "6fb148ec",
   "metadata": {},
   "source": [
    "Give this roughly 2 minutes to run"
   ]
  },
  {
   "cell_type": "code",
   "execution_count": 21,
   "id": "43de27f3",
   "metadata": {},
   "outputs": [],
   "source": [
    "# Assuming you already have the corresponding labels in y_train, y_val, y_test\n",
    "train_datagen = ImageDataGenerator(\n",
    "    preprocessing_function=preprocess_input,\n",
    "    rotation_range=20,\n",
    "    width_shift_range=0.2,\n",
    "    height_shift_range=0.2,\n",
    "    horizontal_flip=True,\n",
    "    zoom_range=0.2,\n",
    ")\n",
    "\n",
    "valid_datagen = ImageDataGenerator(preprocessing_function=preprocess_input)\n",
    "test_datagen = ImageDataGenerator(preprocessing_function=preprocess_input)\n",
    "\n",
    "train_generator = train_datagen.flow(\n",
    "    X_train,\n",
    "    y_train,\n",
    "    batch_size=batch_size,\n",
    "    shuffle=True)\n",
    "\n",
    "validation_generator = valid_datagen.flow(\n",
    "    X_val_balanced,\n",
    "    y_val_balanced,\n",
    "    batch_size=batch_size,\n",
    "    shuffle=True)\n",
    "\n",
    "test_generator = test_datagen.flow(\n",
    "    X_test,\n",
    "    y_test,\n",
    "    batch_size=1,\n",
    "    shuffle=False)"
   ]
  },
  {
   "attachments": {},
   "cell_type": "markdown",
   "id": "c784949f",
   "metadata": {},
   "source": [
    "## Train the model"
   ]
  },
  {
   "cell_type": "code",
   "execution_count": 22,
   "id": "2072d043",
   "metadata": {},
   "outputs": [
    {
     "name": "stderr",
     "output_type": "stream",
     "text": [
      "2023-07-28 10:16:54.169188: I tensorflow/core/common_runtime/executor.cc:1197] [/device:CPU:0] (DEBUG INFO) Executor start aborting (this does not indicate an error and you can ignore this message): INVALID_ARGUMENT: You must feed a value for placeholder tensor 'Placeholder/_0' with dtype int32\n",
      "\t [[{{node Placeholder/_0}}]]\n"
     ]
    },
    {
     "name": "stdout",
     "output_type": "stream",
     "text": [
      "Epoch 1/10\n"
     ]
    },
    {
     "name": "stderr",
     "output_type": "stream",
     "text": [
      "2023-07-28 10:17:05.561550: I tensorflow/compiler/xla/stream_executor/cuda/cuda_dnn.cc:424] Loaded cuDNN version 8600\n",
      "2023-07-28 10:17:07.986175: I tensorflow/compiler/xla/service/service.cc:169] XLA service 0x7fa5b8821e00 initialized for platform CUDA (this does not guarantee that XLA will be used). Devices:\n",
      "2023-07-28 10:17:07.986224: I tensorflow/compiler/xla/service/service.cc:177]   StreamExecutor device (0): Tesla V100-SXM2-16GB, Compute Capability 7.0\n",
      "2023-07-28 10:17:08.374687: I tensorflow/compiler/mlir/tensorflow/utils/dump_mlir_util.cc:269] disabling MLIR crash reproducer, set env var `MLIR_CRASH_REPRODUCER_DIRECTORY` to enable.\n",
      "2023-07-28 10:17:09.557478: I ./tensorflow/compiler/jit/device_compiler.h:180] Compiled cluster using XLA!  This line is logged at most once for the lifetime of the process.\n"
     ]
    },
    {
     "name": "stdout",
     "output_type": "stream",
     "text": [
      "405/405 [==============================] - ETA: 0s - loss: 0.2205 - accuracy: 0.9193"
     ]
    },
    {
     "name": "stderr",
     "output_type": "stream",
     "text": [
      "2023-07-28 10:18:53.611395: I tensorflow/core/common_runtime/executor.cc:1197] [/device:CPU:0] (DEBUG INFO) Executor start aborting (this does not indicate an error and you can ignore this message): INVALID_ARGUMENT: You must feed a value for placeholder tensor 'Placeholder/_0' with dtype int32\n",
      "\t [[{{node Placeholder/_0}}]]\n"
     ]
    },
    {
     "name": "stdout",
     "output_type": "stream",
     "text": [
      "405/405 [==============================] - 124s 269ms/step - loss: 0.2205 - accuracy: 0.9193 - val_loss: 0.5667 - val_accuracy: 0.8595\n",
      "Epoch 2/10\n",
      "405/405 [==============================] - 123s 304ms/step - loss: 0.1100 - accuracy: 0.9572 - val_loss: 0.4853 - val_accuracy: 0.8951\n",
      "Epoch 3/10\n",
      "405/405 [==============================] - 121s 298ms/step - loss: 0.0990 - accuracy: 0.9644 - val_loss: 0.6496 - val_accuracy: 0.8461\n",
      "Epoch 4/10\n",
      "405/405 [==============================] - 119s 293ms/step - loss: 0.0793 - accuracy: 0.9706 - val_loss: 0.6189 - val_accuracy: 0.8700\n",
      "Epoch 5/10\n",
      "405/405 [==============================] - 119s 294ms/step - loss: 0.0744 - accuracy: 0.9736 - val_loss: 0.7150 - val_accuracy: 0.8242\n",
      "Epoch 6/10\n",
      "405/405 [==============================] - 121s 299ms/step - loss: 0.0638 - accuracy: 0.9765 - val_loss: 0.6115 - val_accuracy: 0.8725\n",
      "Epoch 7/10\n",
      "405/405 [==============================] - 121s 299ms/step - loss: 0.0597 - accuracy: 0.9787 - val_loss: 0.7373 - val_accuracy: 0.8368\n",
      "Epoch 8/10\n",
      "405/405 [==============================] - 121s 300ms/step - loss: 0.0536 - accuracy: 0.9813 - val_loss: 0.7335 - val_accuracy: 0.8637\n",
      "Epoch 9/10\n",
      "405/405 [==============================] - 121s 298ms/step - loss: 0.0586 - accuracy: 0.9793 - val_loss: 0.8480 - val_accuracy: 0.8075\n",
      "Epoch 10/10\n",
      "405/405 [==============================] - 121s 298ms/step - loss: 0.0594 - accuracy: 0.9770 - val_loss: 0.8554 - val_accuracy: 0.8247\n"
     ]
    }
   ],
   "source": [
    "# early_stop = EarlyStopping(monitor='val_loss', patience=5)\n",
    "\n",
    "history = model.fit(\n",
    "    train_generator,\n",
    "    epochs=epochs,\n",
    "    validation_data=validation_generator,\n",
    "    class_weight=class_weights)\n",
    "\n",
    "# max_steps = len(X_train) // batch_size\n",
    "# steps = max_steps // 2\n",
    "\n",
    "# history = model.fit(\n",
    "#     train_generator,\n",
    "#     steps_per_epoch = steps,\n",
    "#     epochs=epochs,\n",
    "#     validation_data=validation_generator,\n",
    "#     validation_steps = steps,\n",
    "#     class_weight=class_weights)"
   ]
  },
  {
   "attachments": {},
   "cell_type": "markdown",
   "id": "4709453b",
   "metadata": {},
   "source": [
    "## Save the weights as a .h5 file\n",
    "Also save the history of the model as a .csv file"
   ]
  },
  {
   "cell_type": "code",
   "execution_count": null,
   "id": "51d323d1",
   "metadata": {},
   "outputs": [],
   "source": [
    "import pandas as pd\n",
    "model.save('inception_tuned.h5')\n",
    "# Convert the history.history dict to a pandas DataFrame\n",
    "hist_df = pd.DataFrame(history.history)\n",
    "\n",
    "# Save to csv\n",
    "hist_csv_file = 'inception_tuned.csv'\n",
    "with open(hist_csv_file, mode='w') as f:\n",
    "    hist_df.to_csv(f)"
   ]
  },
  {
   "attachments": {},
   "cell_type": "markdown",
   "id": "2b966c58",
   "metadata": {},
   "source": [
    "## Evaluate the model\n",
    "Using our custom metrics. Load in the file."
   ]
  },
  {
   "cell_type": "code",
   "execution_count": null,
   "id": "91b1cc7f",
   "metadata": {},
   "outputs": [
    {
     "name": "stderr",
     "output_type": "stream",
     "text": [
      "15:09:47 | INFO  | utils           | Note: detected 80 virtual cores but NumExpr set to maximum of 64, check \"NUMEXPR_MAX_THREADS\" environment variable.\n",
      "15:09:47 | INFO  | utils           | Note: NumExpr detected 80 cores but \"NUMEXPR_MAX_THREADS\" not set, so enforcing safe limit of 8.\n",
      "15:09:47 | INFO  | utils           | NumExpr defaulting to 8 threads.\n",
      "2023-07-27 15:09:48.102304: I tensorflow/core/platform/cpu_feature_guard.cc:182] This TensorFlow binary is optimized to use available CPU instructions in performance-critical operations.\n",
      "To enable the following instructions: AVX2 FMA, in other operations, rebuild TensorFlow with the appropriate compiler flags.\n",
      "2023-07-27 15:09:49.767741: W tensorflow/compiler/tf2tensorrt/utils/py_utils.cc:38] TF-TRT Warning: Could not find TensorRT\n",
      "2023-07-27 15:09:53.806939: I tensorflow/core/common_runtime/gpu/gpu_device.cc:1635] Created device /job:localhost/replica:0/task:0/device:GPU:0 with 14585 MB memory:  -> device: 0, name: Tesla V100-SXM2-16GB, pci bus id: 0000:89:00.0, compute capability: 7.0\n"
     ]
    }
   ],
   "source": [
    "import pandas as pd\n",
    "from tensorflow.keras.models import load_model\n",
    "\n",
    "# Register the custom metric function\n",
    "my_model = load_model('inception_tuned.h5')\n",
    "\n",
    "my_model_history = pd.read_csv(\n",
    "    'inception_tuned.csv')\n"
   ]
  },
  {
   "cell_type": "code",
   "execution_count": null,
   "id": "e6ed7d9b",
   "metadata": {},
   "outputs": [
    {
     "name": "stdout",
     "output_type": "stream",
     "text": [
      "150/150 [==============================] - 23s 124ms/step\n"
     ]
    }
   ],
   "source": [
    "predictions = my_model.predict(X_test_balanced)"
   ]
  },
  {
   "cell_type": "code",
   "execution_count": null,
   "id": "2fd256a8",
   "metadata": {},
   "outputs": [],
   "source": [
    "from sklearn.metrics import accuracy_score\n",
    "\n",
    "# Convert predictions to binary format\n",
    "predictions_binary = (predictions >= 0.5).astype(int)\n",
    "\n",
    "# Calculate accuracy\n",
    "acc = accuracy_score(y_test_balanced, predictions_binary)"
   ]
  },
  {
   "cell_type": "code",
   "execution_count": null,
   "id": "47c8e498",
   "metadata": {},
   "outputs": [
    {
     "name": "stdout",
     "output_type": "stream",
     "text": [
      "Testing accuracy: 0.8278173439463762\n"
     ]
    }
   ],
   "source": [
    "print(f\"Testing accuracy: {acc}\")"
   ]
  },
  {
   "cell_type": "code",
   "execution_count": null,
   "id": "1820f6b6",
   "metadata": {},
   "outputs": [
    {
     "name": "stdout",
     "output_type": "stream",
     "text": [
      "2387 (50.0%) are frost out of 4774\n",
      "Predicted 2556 were frost\n",
      "231 FALSE NEGATIVES || 400 FALSE POSITIVES\n"
     ]
    }
   ],
   "source": [
    "frost_count = 0\n",
    "for item in y_test_balanced:\n",
    "    frost_count += item\n",
    "\n",
    "print(f\"{frost_count} ({100*(frost_count / len(y_test_balanced))}%) are frost out of {len(y_test_balanced)}\")\n",
    "\n",
    "pred_frost_count = 0\n",
    "for i in range(len(y_test_balanced)):\n",
    "    pred_frost_count += predictions_binary[i][0]\n",
    "\n",
    "print(f\"Predicted {pred_frost_count} were frost\")\n",
    "\n",
    "false_neg = 0\n",
    "false_pos = 0\n",
    "for i in range(len(predictions_binary)):\n",
    "    if y_test_balanced[i] != predictions_binary[i]:\n",
    "        if predictions_binary[i] == 1:\n",
    "            false_pos += 1\n",
    "        else:\n",
    "            false_neg += 1\n",
    "print(f\"{false_neg} FALSE NEGATIVES || {false_pos} FALSE POSITIVES\")"
   ]
  }
 ],
 "metadata": {
  "kernelspec": {
   "display_name": "Python 3",
   "language": "python",
   "name": "python3"
  },
  "language_info": {
   "codemirror_mode": {
    "name": "ipython",
    "version": 3
   },
   "file_extension": ".py",
   "mimetype": "text/x-python",
   "name": "python",
   "nbconvert_exporter": "python",
   "pygments_lexer": "ipython3",
   "version": "3.11.4"
  }
 },
 "nbformat": 4,
 "nbformat_minor": 5
}
